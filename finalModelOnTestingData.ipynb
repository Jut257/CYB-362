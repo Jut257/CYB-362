{
 "cells": [
  {
   "cell_type": "markdown",
   "id": "a2a5e99d",
   "metadata": {},
   "source": [
    "### Import model and use on testing csv\n",
    "This is rough but its working"
   ]
  },
  {
   "cell_type": "code",
   "execution_count": 1,
   "id": "c2981b05",
   "metadata": {},
   "outputs": [],
   "source": [
    "## Phase 0/1 Code.\n",
    "import scipy.cluster.hierarchy as sch\n",
    "import pandas as pd\n",
    "import numpy as np\n",
    "import matplotlib.pyplot as plt\n",
    "import seaborn as sns\n",
    "from sklearn.impute import SimpleImputer\n",
    "from sklearn.impute import KNNImputer\n",
    "from sklearn.neighbors import LocalOutlierFactor\n",
    "from sklearn.preprocessing import StandardScaler\n",
    "\n",
    "dfTest = pd.read_csv(\"Phishing_Legitimate_test_student.csv\", na_values=['',' ','n/a'])"
   ]
  },
  {
   "cell_type": "markdown",
   "id": "d22e6bc0",
   "metadata": {},
   "source": [
    "#### Data cleaning & standardization of Testing dataset"
   ]
  },
  {
   "cell_type": "code",
   "execution_count": 2,
   "id": "7edce4b6",
   "metadata": {},
   "outputs": [],
   "source": [
    "## cleaning testing data ##\n",
    "testRowsWithNa = dfTest[ dfTest.isnull().any(axis=1) ]\n",
    "rowsToDrop = dfTest[ dfTest.isnull().sum(axis=1) > 1 ].index\n",
    "dfTest.drop(rowsToDrop, inplace=True)\n",
    "imputer = KNNImputer(n_neighbors=10)\n",
    "dfTest2 = pd.DataFrame(imputer.fit_transform(dfTest),columns = dfTest.columns)\n",
    "rows_to_drop=dfTest2[dfTest2['UrlLength']>500].index\n",
    "dfTest2.drop(rows_to_drop,inplace=True)\n",
    "rows_to_drop=dfTest2[dfTest2['NumNumericChars']>100].index\n",
    "dfTest2.drop(rows_to_drop,inplace=True)\n",
    "rows_to_drop=dfTest2[dfTest2['NumDash']>20].index\n",
    "dfTest2.drop(rows_to_drop,inplace=True)\n",
    "clf= LocalOutlierFactor(n_neighbors=20)\n",
    "X=dfTest2.to_numpy()\n",
    "outlier_label=clf.fit_predict(X)\n",
    "rows_to_drop= dfTest2.iloc[clf.negative_outlier_factor_ < -1.30].index\n",
    "dfTest2.drop(rows_to_drop,inplace=True)"
   ]
  },
  {
   "cell_type": "markdown",
   "id": "01b60e7c",
   "metadata": {},
   "source": [
    "Create dataframe of selected features, must be in proper order"
   ]
  },
  {
   "cell_type": "code",
   "execution_count": 3,
   "id": "2e6915c1",
   "metadata": {},
   "outputs": [],
   "source": [
    "X=dfTest2[['NumDash','PathLength','UrlLength','PathLevel','DomainInPaths','RandomString','InsecureForms']].to_numpy()\n",
    "\n",
    "# Scale/standardize data \n",
    "scaler = StandardScaler()\n",
    "scaler.fit(X)\n",
    "X = scaler.transform(X)"
   ]
  },
  {
   "cell_type": "markdown",
   "id": "f86692cc",
   "metadata": {},
   "source": [
    "#### Import & Build model using pickle"
   ]
  },
  {
   "cell_type": "code",
   "execution_count": 4,
   "id": "67f6b5d7",
   "metadata": {},
   "outputs": [],
   "source": [
    "import pickle\n",
    "load_model=pickle.load(open('test','rb'))\n",
    "\n",
    "# Test same model on different dataset \n",
    "y=load_model.predict(X) # Build prediction model"
   ]
  },
  {
   "cell_type": "markdown",
   "id": "b659ce41",
   "metadata": {},
   "source": [
    "##### Export predictions to CSV file"
   ]
  },
  {
   "cell_type": "code",
   "execution_count": 5,
   "id": "49ddb6e4",
   "metadata": {},
   "outputs": [],
   "source": [
    "### export to csv ###\n",
    "ids = dfTest2['id'].astype(int)\n",
    "# DF created to output the csv file in correct format\n",
    "final_predictions = pd.DataFrame(y,ids).rename_axis('Id')\n",
    "final_predictions.columns = ['Prediction']\n",
    "# must change file path \n",
    "final_predictions.to_csv('test_export.csv')"
   ]
  }
 ],
 "metadata": {
  "kernelspec": {
   "display_name": "Python 3 (ipykernel)",
   "language": "python",
   "name": "python3"
  },
  "language_info": {
   "codemirror_mode": {
    "name": "ipython",
    "version": 3
   },
   "file_extension": ".py",
   "mimetype": "text/x-python",
   "name": "python",
   "nbconvert_exporter": "python",
   "pygments_lexer": "ipython3",
   "version": "3.9.13"
  }
 },
 "nbformat": 4,
 "nbformat_minor": 5
}
