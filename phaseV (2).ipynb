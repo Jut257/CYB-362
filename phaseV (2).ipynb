{
 "cells": [
  {
   "cell_type": "markdown",
   "id": "8ca553b2",
   "metadata": {},
   "source": [
    "# Phase V\n",
    "## Joseph Princiotta & Justin Lusk\n",
    "#### CYBER 363 Fall 2022"
   ]
  },
  {
   "cell_type": "markdown",
   "id": "7cfcf906",
   "metadata": {},
   "source": [
    "## Part A\n",
    "### Problem Introduction & Statements\n",
    "\n",
    "The CIO of Billy's Accounting Inc. approached the cybersecurity data team to explore the use of a machine training algorithm to help filter malicious websites from the companies' network. In the past year Billy's Accounting Inc. network had seen a 40% increase in malicious domains accessed on the network; causing the firewall and network team to become overloaded. The network security team's initial approach to halting malicious websites was done manually, with teammembers having to update the firewall's access control lists each week with newly encountered malicious website data. This process was time consuming and is only reactive, the team could only block malicious websites after they had been discovered. \n",
    "\n",
    "The CIO tasked the cyber data team with exploring the automating of discovery and blocking of malicious website data on the companies' networks. If implemented properly this would save thousands of man hours and would provide a proactive solution. This would increase the security of the network and increase the speed of discovering malicious websites.\n",
    "\n",
    "The cyber data team was given a dataset of recent website data which included 37 categories of website data and an identifier if the website was malicious or not. This dataset was used to test and train a suitable ML algorithm to predict risky websites proactivly. "
   ]
  },
  {
   "cell_type": "markdown",
   "id": "d25332f1",
   "metadata": {},
   "source": [
    "### Summary of process \n",
    "\n",
    "\n",
    "The first model we decided to try was a Decision Random Forests. We decided to test a random forest model because the use the average of many decision trees to make its prediction, which means they usually perform better than a single decision tree. We tried different values by using cross validation to determine the best values for n_estimators and max_depth by using cross validation. Increasing the amount of estimators increased the accuarcy slightly but also increased the computation time. The vizualization proccess showed that as max_depth was increasing accuracy until it hit max_depth = 7 then accuracy started to decrease.\n",
    "\n",
    "We decided to use the Support Vector Classifier because it is a discriminativve classifier. Discriminitive classifiers are good at drawing a line between data clusters. Since we are trying to determine whether a email either is or is not a phishing email and having a relatively small amount of data makes it well suited for the prediction we are trying to make. To test the model we used K-Fold cross validation. We chose K-Fold because it tries multiple different training models and combines each round from the different models and the validation results to give us estimate of the models performance. It also helps us determine the best way to spilt our data. To do this we used a GridSearch beacuse it performs an exhaustive search and evaluates its performance. GridSearch gave us the best parameters to use with our model. We then used this data to build the final SVC model and test the metrics."
   ]
  },
  {
   "cell_type": "markdown",
   "id": "6864a0fe",
   "metadata": {},
   "source": [
    "### Details\n",
    "final_model = svm.SVC(C=77.8,kernel='rbf')\n",
    "C=77.8: The C value is the point between the classifiers margins and was determined using GridSearchCV\n",
    "kernel='rbf': There are three different kernels to select from, linear, RBF, and polynomial. RBF was determined to be the most efficient using GridSearchCV. RBF is gaussian classifier, which makes it better suited for classifying non-linear data clusters."
   ]
  },
  {
   "cell_type": "markdown",
   "id": "a76c0bc0",
   "metadata": {},
   "source": [
    "### Phase 0 & 1 Data Preprocessing and Feature Selection"
   ]
  },
  {
   "cell_type": "code",
   "execution_count": 3,
   "id": "2569aca6",
   "metadata": {},
   "outputs": [
    {
     "name": "stderr",
     "output_type": "stream",
     "text": [
      "C:\\Users\\jlusk\\AppData\\Local\\Temp\\ipykernel_14744\\352120760.py:50: SettingWithCopyWarning: \n",
      "A value is trying to be set on a copy of a slice from a DataFrame.\n",
      "Try using .loc[row_indexer,col_indexer] = value instead\n",
      "\n",
      "See the caveats in the documentation: https://pandas.pydata.org/pandas-docs/stable/user_guide/indexing.html#returning-a-view-versus-a-copy\n",
      "  dfTrain2Numerical[['NumNumericChars_Standardized','NumDots_Standardized','SubdomainLevel_Standardized','PathLevel_Standardized','UrlLength_Standardized','NumDash_Standardized','NumDashInHostname_Standardized','NumUnderscore_Standardized','NumPercent_Standardized','NumQueryComponents_Standardized','NumAmpersand_Standardized','NumHash_Standardized','HostnameLength_Standardized','PathLength_Standardized','QueryLength_Standardized','NumSensitiveWords_Standardized']]=X\n",
      "C:\\Users\\jlusk\\AppData\\Local\\Temp\\ipykernel_14744\\352120760.py:50: SettingWithCopyWarning: \n",
      "A value is trying to be set on a copy of a slice from a DataFrame.\n",
      "Try using .loc[row_indexer,col_indexer] = value instead\n",
      "\n",
      "See the caveats in the documentation: https://pandas.pydata.org/pandas-docs/stable/user_guide/indexing.html#returning-a-view-versus-a-copy\n",
      "  dfTrain2Numerical[['NumNumericChars_Standardized','NumDots_Standardized','SubdomainLevel_Standardized','PathLevel_Standardized','UrlLength_Standardized','NumDash_Standardized','NumDashInHostname_Standardized','NumUnderscore_Standardized','NumPercent_Standardized','NumQueryComponents_Standardized','NumAmpersand_Standardized','NumHash_Standardized','HostnameLength_Standardized','PathLength_Standardized','QueryLength_Standardized','NumSensitiveWords_Standardized']]=X\n",
      "C:\\Users\\jlusk\\AppData\\Local\\Temp\\ipykernel_14744\\352120760.py:50: SettingWithCopyWarning: \n",
      "A value is trying to be set on a copy of a slice from a DataFrame.\n",
      "Try using .loc[row_indexer,col_indexer] = value instead\n",
      "\n",
      "See the caveats in the documentation: https://pandas.pydata.org/pandas-docs/stable/user_guide/indexing.html#returning-a-view-versus-a-copy\n",
      "  dfTrain2Numerical[['NumNumericChars_Standardized','NumDots_Standardized','SubdomainLevel_Standardized','PathLevel_Standardized','UrlLength_Standardized','NumDash_Standardized','NumDashInHostname_Standardized','NumUnderscore_Standardized','NumPercent_Standardized','NumQueryComponents_Standardized','NumAmpersand_Standardized','NumHash_Standardized','HostnameLength_Standardized','PathLength_Standardized','QueryLength_Standardized','NumSensitiveWords_Standardized']]=X\n",
      "C:\\Users\\jlusk\\AppData\\Local\\Temp\\ipykernel_14744\\352120760.py:50: SettingWithCopyWarning: \n",
      "A value is trying to be set on a copy of a slice from a DataFrame.\n",
      "Try using .loc[row_indexer,col_indexer] = value instead\n",
      "\n",
      "See the caveats in the documentation: https://pandas.pydata.org/pandas-docs/stable/user_guide/indexing.html#returning-a-view-versus-a-copy\n",
      "  dfTrain2Numerical[['NumNumericChars_Standardized','NumDots_Standardized','SubdomainLevel_Standardized','PathLevel_Standardized','UrlLength_Standardized','NumDash_Standardized','NumDashInHostname_Standardized','NumUnderscore_Standardized','NumPercent_Standardized','NumQueryComponents_Standardized','NumAmpersand_Standardized','NumHash_Standardized','HostnameLength_Standardized','PathLength_Standardized','QueryLength_Standardized','NumSensitiveWords_Standardized']]=X\n",
      "C:\\Users\\jlusk\\AppData\\Local\\Temp\\ipykernel_14744\\352120760.py:50: SettingWithCopyWarning: \n",
      "A value is trying to be set on a copy of a slice from a DataFrame.\n",
      "Try using .loc[row_indexer,col_indexer] = value instead\n",
      "\n",
      "See the caveats in the documentation: https://pandas.pydata.org/pandas-docs/stable/user_guide/indexing.html#returning-a-view-versus-a-copy\n",
      "  dfTrain2Numerical[['NumNumericChars_Standardized','NumDots_Standardized','SubdomainLevel_Standardized','PathLevel_Standardized','UrlLength_Standardized','NumDash_Standardized','NumDashInHostname_Standardized','NumUnderscore_Standardized','NumPercent_Standardized','NumQueryComponents_Standardized','NumAmpersand_Standardized','NumHash_Standardized','HostnameLength_Standardized','PathLength_Standardized','QueryLength_Standardized','NumSensitiveWords_Standardized']]=X\n",
      "C:\\Users\\jlusk\\AppData\\Local\\Temp\\ipykernel_14744\\352120760.py:50: SettingWithCopyWarning: \n",
      "A value is trying to be set on a copy of a slice from a DataFrame.\n",
      "Try using .loc[row_indexer,col_indexer] = value instead\n",
      "\n",
      "See the caveats in the documentation: https://pandas.pydata.org/pandas-docs/stable/user_guide/indexing.html#returning-a-view-versus-a-copy\n",
      "  dfTrain2Numerical[['NumNumericChars_Standardized','NumDots_Standardized','SubdomainLevel_Standardized','PathLevel_Standardized','UrlLength_Standardized','NumDash_Standardized','NumDashInHostname_Standardized','NumUnderscore_Standardized','NumPercent_Standardized','NumQueryComponents_Standardized','NumAmpersand_Standardized','NumHash_Standardized','HostnameLength_Standardized','PathLength_Standardized','QueryLength_Standardized','NumSensitiveWords_Standardized']]=X\n",
      "C:\\Users\\jlusk\\AppData\\Local\\Temp\\ipykernel_14744\\352120760.py:50: SettingWithCopyWarning: \n",
      "A value is trying to be set on a copy of a slice from a DataFrame.\n",
      "Try using .loc[row_indexer,col_indexer] = value instead\n",
      "\n",
      "See the caveats in the documentation: https://pandas.pydata.org/pandas-docs/stable/user_guide/indexing.html#returning-a-view-versus-a-copy\n",
      "  dfTrain2Numerical[['NumNumericChars_Standardized','NumDots_Standardized','SubdomainLevel_Standardized','PathLevel_Standardized','UrlLength_Standardized','NumDash_Standardized','NumDashInHostname_Standardized','NumUnderscore_Standardized','NumPercent_Standardized','NumQueryComponents_Standardized','NumAmpersand_Standardized','NumHash_Standardized','HostnameLength_Standardized','PathLength_Standardized','QueryLength_Standardized','NumSensitiveWords_Standardized']]=X\n",
      "C:\\Users\\jlusk\\AppData\\Local\\Temp\\ipykernel_14744\\352120760.py:50: SettingWithCopyWarning: \n",
      "A value is trying to be set on a copy of a slice from a DataFrame.\n",
      "Try using .loc[row_indexer,col_indexer] = value instead\n",
      "\n",
      "See the caveats in the documentation: https://pandas.pydata.org/pandas-docs/stable/user_guide/indexing.html#returning-a-view-versus-a-copy\n",
      "  dfTrain2Numerical[['NumNumericChars_Standardized','NumDots_Standardized','SubdomainLevel_Standardized','PathLevel_Standardized','UrlLength_Standardized','NumDash_Standardized','NumDashInHostname_Standardized','NumUnderscore_Standardized','NumPercent_Standardized','NumQueryComponents_Standardized','NumAmpersand_Standardized','NumHash_Standardized','HostnameLength_Standardized','PathLength_Standardized','QueryLength_Standardized','NumSensitiveWords_Standardized']]=X\n",
      "C:\\Users\\jlusk\\AppData\\Local\\Temp\\ipykernel_14744\\352120760.py:50: SettingWithCopyWarning: \n",
      "A value is trying to be set on a copy of a slice from a DataFrame.\n",
      "Try using .loc[row_indexer,col_indexer] = value instead\n",
      "\n",
      "See the caveats in the documentation: https://pandas.pydata.org/pandas-docs/stable/user_guide/indexing.html#returning-a-view-versus-a-copy\n",
      "  dfTrain2Numerical[['NumNumericChars_Standardized','NumDots_Standardized','SubdomainLevel_Standardized','PathLevel_Standardized','UrlLength_Standardized','NumDash_Standardized','NumDashInHostname_Standardized','NumUnderscore_Standardized','NumPercent_Standardized','NumQueryComponents_Standardized','NumAmpersand_Standardized','NumHash_Standardized','HostnameLength_Standardized','PathLength_Standardized','QueryLength_Standardized','NumSensitiveWords_Standardized']]=X\n",
      "C:\\Users\\jlusk\\AppData\\Local\\Temp\\ipykernel_14744\\352120760.py:50: SettingWithCopyWarning: \n",
      "A value is trying to be set on a copy of a slice from a DataFrame.\n",
      "Try using .loc[row_indexer,col_indexer] = value instead\n",
      "\n",
      "See the caveats in the documentation: https://pandas.pydata.org/pandas-docs/stable/user_guide/indexing.html#returning-a-view-versus-a-copy\n",
      "  dfTrain2Numerical[['NumNumericChars_Standardized','NumDots_Standardized','SubdomainLevel_Standardized','PathLevel_Standardized','UrlLength_Standardized','NumDash_Standardized','NumDashInHostname_Standardized','NumUnderscore_Standardized','NumPercent_Standardized','NumQueryComponents_Standardized','NumAmpersand_Standardized','NumHash_Standardized','HostnameLength_Standardized','PathLength_Standardized','QueryLength_Standardized','NumSensitiveWords_Standardized']]=X\n",
      "C:\\Users\\jlusk\\AppData\\Local\\Temp\\ipykernel_14744\\352120760.py:50: SettingWithCopyWarning: \n",
      "A value is trying to be set on a copy of a slice from a DataFrame.\n",
      "Try using .loc[row_indexer,col_indexer] = value instead\n",
      "\n",
      "See the caveats in the documentation: https://pandas.pydata.org/pandas-docs/stable/user_guide/indexing.html#returning-a-view-versus-a-copy\n",
      "  dfTrain2Numerical[['NumNumericChars_Standardized','NumDots_Standardized','SubdomainLevel_Standardized','PathLevel_Standardized','UrlLength_Standardized','NumDash_Standardized','NumDashInHostname_Standardized','NumUnderscore_Standardized','NumPercent_Standardized','NumQueryComponents_Standardized','NumAmpersand_Standardized','NumHash_Standardized','HostnameLength_Standardized','PathLength_Standardized','QueryLength_Standardized','NumSensitiveWords_Standardized']]=X\n",
      "C:\\Users\\jlusk\\AppData\\Local\\Temp\\ipykernel_14744\\352120760.py:50: SettingWithCopyWarning: \n",
      "A value is trying to be set on a copy of a slice from a DataFrame.\n",
      "Try using .loc[row_indexer,col_indexer] = value instead\n",
      "\n",
      "See the caveats in the documentation: https://pandas.pydata.org/pandas-docs/stable/user_guide/indexing.html#returning-a-view-versus-a-copy\n",
      "  dfTrain2Numerical[['NumNumericChars_Standardized','NumDots_Standardized','SubdomainLevel_Standardized','PathLevel_Standardized','UrlLength_Standardized','NumDash_Standardized','NumDashInHostname_Standardized','NumUnderscore_Standardized','NumPercent_Standardized','NumQueryComponents_Standardized','NumAmpersand_Standardized','NumHash_Standardized','HostnameLength_Standardized','PathLength_Standardized','QueryLength_Standardized','NumSensitiveWords_Standardized']]=X\n",
      "C:\\Users\\jlusk\\AppData\\Local\\Temp\\ipykernel_14744\\352120760.py:50: SettingWithCopyWarning: \n",
      "A value is trying to be set on a copy of a slice from a DataFrame.\n",
      "Try using .loc[row_indexer,col_indexer] = value instead\n",
      "\n",
      "See the caveats in the documentation: https://pandas.pydata.org/pandas-docs/stable/user_guide/indexing.html#returning-a-view-versus-a-copy\n",
      "  dfTrain2Numerical[['NumNumericChars_Standardized','NumDots_Standardized','SubdomainLevel_Standardized','PathLevel_Standardized','UrlLength_Standardized','NumDash_Standardized','NumDashInHostname_Standardized','NumUnderscore_Standardized','NumPercent_Standardized','NumQueryComponents_Standardized','NumAmpersand_Standardized','NumHash_Standardized','HostnameLength_Standardized','PathLength_Standardized','QueryLength_Standardized','NumSensitiveWords_Standardized']]=X\n",
      "C:\\Users\\jlusk\\AppData\\Local\\Temp\\ipykernel_14744\\352120760.py:50: SettingWithCopyWarning: \n",
      "A value is trying to be set on a copy of a slice from a DataFrame.\n",
      "Try using .loc[row_indexer,col_indexer] = value instead\n",
      "\n",
      "See the caveats in the documentation: https://pandas.pydata.org/pandas-docs/stable/user_guide/indexing.html#returning-a-view-versus-a-copy\n",
      "  dfTrain2Numerical[['NumNumericChars_Standardized','NumDots_Standardized','SubdomainLevel_Standardized','PathLevel_Standardized','UrlLength_Standardized','NumDash_Standardized','NumDashInHostname_Standardized','NumUnderscore_Standardized','NumPercent_Standardized','NumQueryComponents_Standardized','NumAmpersand_Standardized','NumHash_Standardized','HostnameLength_Standardized','PathLength_Standardized','QueryLength_Standardized','NumSensitiveWords_Standardized']]=X\n",
      "C:\\Users\\jlusk\\AppData\\Local\\Temp\\ipykernel_14744\\352120760.py:50: SettingWithCopyWarning: \n",
      "A value is trying to be set on a copy of a slice from a DataFrame.\n",
      "Try using .loc[row_indexer,col_indexer] = value instead\n",
      "\n",
      "See the caveats in the documentation: https://pandas.pydata.org/pandas-docs/stable/user_guide/indexing.html#returning-a-view-versus-a-copy\n",
      "  dfTrain2Numerical[['NumNumericChars_Standardized','NumDots_Standardized','SubdomainLevel_Standardized','PathLevel_Standardized','UrlLength_Standardized','NumDash_Standardized','NumDashInHostname_Standardized','NumUnderscore_Standardized','NumPercent_Standardized','NumQueryComponents_Standardized','NumAmpersand_Standardized','NumHash_Standardized','HostnameLength_Standardized','PathLength_Standardized','QueryLength_Standardized','NumSensitiveWords_Standardized']]=X\n",
      "C:\\Users\\jlusk\\AppData\\Local\\Temp\\ipykernel_14744\\352120760.py:50: SettingWithCopyWarning: \n",
      "A value is trying to be set on a copy of a slice from a DataFrame.\n",
      "Try using .loc[row_indexer,col_indexer] = value instead\n",
      "\n",
      "See the caveats in the documentation: https://pandas.pydata.org/pandas-docs/stable/user_guide/indexing.html#returning-a-view-versus-a-copy\n",
      "  dfTrain2Numerical[['NumNumericChars_Standardized','NumDots_Standardized','SubdomainLevel_Standardized','PathLevel_Standardized','UrlLength_Standardized','NumDash_Standardized','NumDashInHostname_Standardized','NumUnderscore_Standardized','NumPercent_Standardized','NumQueryComponents_Standardized','NumAmpersand_Standardized','NumHash_Standardized','HostnameLength_Standardized','PathLength_Standardized','QueryLength_Standardized','NumSensitiveWords_Standardized']]=X\n"
     ]
    }
   ],
   "source": [
    "#!/usr/bin/env python3\n",
    "# -*- coding: utf-8 -*-\n",
    "\"\"\"\n",
    "Created on Sat Dec 10 19:52:38 2022\n",
    "\n",
    "@author: jprince\n",
    "\"\"\"\n",
    "\n",
    "### Phase 0/1 Code.\n",
    "import scipy.cluster.hierarchy as sch\n",
    "import pandas as pd\n",
    "import numpy as np\n",
    "import matplotlib.pyplot as plt\n",
    "import seaborn as sns\n",
    "from sklearn.impute import SimpleImputer\n",
    "from sklearn.impute import KNNImputer\n",
    "from sklearn.neighbors import LocalOutlierFactor\n",
    "from sklearn.preprocessing import StandardScaler\n",
    "\n",
    "dfTest = pd.read_csv(r\"C:\\Users\\jlusk\\OneDrive\\Desktop\\CYB-362-main (1)\\CYB-362-main\\Phishing_Legitimate_test_student.csv\", na_values=['',' ','n/a'],encoding='utf8')\n",
    "dfTrain = pd.read_csv(r\"C:\\Users\\jlusk\\OneDrive\\Desktop\\CYB-362-main (1)\\CYB-362-main\\Phishing_Legitimate_train_missing_data.csv\", na_values=['',' ','n/a'],encoding='utf8')\n",
    "\n",
    "#dfTest = pd.read_csv(\"Phishing_Legitimate_test_student.csv\", na_values=['',' ','n/a'])\n",
    "#dfTrain = pd.read_csv(\"Phishing_Legitimate_train_missing_data.csv\", na_values=['',' ','n/a'])\n",
    "################################# Phase 0 and 1 ####################################################\n",
    "trainRowsWithNa = dfTrain[ dfTrain.isnull().any(axis=1) ]\n",
    "rowsToDrop = dfTrain[ dfTrain.isnull().sum(axis=1) > 1 ].index\n",
    "dfTrain.drop(rowsToDrop, inplace=True)\n",
    "imputer = KNNImputer(n_neighbors=10)\n",
    "dfTrain2 = pd.DataFrame(imputer.fit_transform(dfTrain),columns = dfTrain.columns)\n",
    "rows_to_drop=dfTrain2[dfTrain2['UrlLength']>500].index\n",
    "dfTrain2.drop(rows_to_drop,inplace=True)\n",
    "rows_to_drop=dfTrain2[dfTrain2['NumNumericChars']>100].index\n",
    "dfTrain2.drop(rows_to_drop,inplace=True)\n",
    "rows_to_drop=dfTrain2[dfTrain2['NumDash']>20].index\n",
    "dfTrain2.drop(rows_to_drop,inplace=True)\n",
    "dfTrain2Numerical = dfTrain2[['NumNumericChars','NumDots','SubdomainLevel','PathLevel','UrlLength','NumDash','NumDashInHostname',\n",
    "          'NumUnderscore','NumPercent','NumQueryComponents','NumAmpersand','NumHash','HostnameLength','PathLength','QueryLength','NumSensitiveWords']]\n",
    "clf= LocalOutlierFactor(n_neighbors=20)\n",
    "X=dfTrain2Numerical.to_numpy()\n",
    "outlier_label=clf.fit_predict(X)\n",
    "rows_to_drop= dfTrain2.iloc[clf.negative_outlier_factor_ < -1.30].index\n",
    "dfTrain2.drop(rows_to_drop,inplace=True)\n",
    "dfTrain2Numerical = dfTrain2[['NumNumericChars','NumDots','SubdomainLevel','PathLevel','UrlLength','NumDash','NumDashInHostname','NumUnderscore','NumPercent','NumQueryComponents','NumAmpersand','NumHash','HostnameLength','PathLength','QueryLength','NumSensitiveWords']]\n",
    "X = dfTrain2Numerical.to_numpy()\n",
    "scaler = StandardScaler()\n",
    "scaler.fit(X)\n",
    "X = scaler.transform(X)\n",
    "dfTrain2Numerical.is_copy = False\n",
    "dfTrain2Numerical[['NumNumericChars_Standardized','NumDots_Standardized','SubdomainLevel_Standardized','PathLevel_Standardized','UrlLength_Standardized','NumDash_Standardized','NumDashInHostname_Standardized','NumUnderscore_Standardized','NumPercent_Standardized','NumQueryComponents_Standardized','NumAmpersand_Standardized','NumHash_Standardized','HostnameLength_Standardized','PathLength_Standardized','QueryLength_Standardized','NumSensitiveWords_Standardized']]=X\n",
    "\n",
    "## Phase 3/4 Code.\n",
    "import pandas as pd\n",
    "import numpy as np\n",
    "import seaborn as sns\n",
    "import matplotlib.pyplot as plt\n",
    "\n",
    "# Create dataframe of target 'CLASS_LABEL'\n",
    "dfClass_labels = pd.DataFrame(dfTrain2['CLASS_LABEL'])\n",
    "\n",
    "# Create dataframe of standardized numerical features\n",
    "dfTrain2Numstd= dfTrain2Numerical[['UrlLength_Standardized','NumNumericChars_Standardized','NumDots_Standardized','SubdomainLevel_Standardized','PathLevel_Standardized','NumDash_Standardized','NumDashInHostname_Standardized','NumUnderscore_Standardized','NumPercent_Standardized','NumQueryComponents_Standardized','NumAmpersand_Standardized','NumHash_Standardized','HostnameLength_Standardized','PathLength_Standardized','QueryLength_Standardized','NumSensitiveWords_Standardized']]\n",
    "\n",
    "# Created dataframe of all binary data, now binary and standardized numerical features can be seperated IF NEEDED.\n",
    "dfTrain2Bin= dfTrain2[['AtSymbol','TildeSymbol','NoHttps','RandomString','IpAddress','DomainInSubdomains','DomainInPaths','DoubleSlashInPath','EmbeddedBrandName','PctExtResourceUrls','ExtFavicon','InsecureForms','RelativeFormAction','ExtFormAction','RightClickDisabled','PopUpWindow','IframeOrFrame','MissingTitle','ImagesOnlyInForm']]\n",
    "# dfTrain2Bin contains binary features and dfTrain2Numstd contains standardized numerical data. \n",
    "\n",
    "# Create main dataframe that contains standardized numerical data and binary data\n",
    "dfTrain3=dfTrain2Bin.join(dfTrain2Numstd)\n",
    "# Create list of all features\n",
    "featurecols=dfTrain3.columns.to_list()\n",
    "\n",
    "# Create seperate lists for numerical & binary features lists\n",
    "NUMfeaturecols=dfTrain2Numstd.columns.to_list()\n",
    "BINfeaturecols=dfTrain2Bin.columns.to_list()\n",
    "\n",
    "####### Dataframe list: ######\n",
    "# 'dfTrain3' = Main dataframe of training data, std numerical and binary data \n",
    "# 'featurecols' = list of all feature cols in 'dfTrain3'\n",
    "# 'NUMfeaturecols' = list of all numerical features \n",
    "# 'BINfeaturecols' = list of all binary features\n",
    "# 'dfTrain2Bin' = all binary features \n",
    "# 'dfTrain2Numstd' = all numerical features standardized\n",
    "\n",
    "# Create dataframe of target 'CLASS_LABEL'\n",
    "dfClass_labels = pd.DataFrame(dfTrain2['CLASS_LABEL'])\n",
    "# Add 'dfClass_labels' to main dfTrain3 \n",
    "dfTrain3 = dfTrain3.join(dfClass_labels)"
   ]
  },
  {
   "cell_type": "markdown",
   "id": "e38e51f7",
   "metadata": {},
   "source": [
    "#### Feature Selection based on previous phases.\n",
    "\n",
    "1. 'NumDash_Standardized'\n",
    "2. 'PathLength_Standardized'\n",
    "3. 'UrlLength_Standardized'\n",
    "4. 'PathLevel_Standardized'\n",
    "5. 'DomainInPaths'\n",
    "6. 'RandomString'\n",
    "7. 'InsecureForms'"
   ]
  },
  {
   "cell_type": "markdown",
   "id": "9aff8efb",
   "metadata": {},
   "source": [
    "## Phase V\n",
    "Two types of ML models were tested, Random Forest classifier and SVM classification.\n",
    "\n",
    "##### First steps are to build dataframe of final selected features and perform training/testing data split"
   ]
  },
  {
   "cell_type": "code",
   "execution_count": 4,
   "id": "abc9ddc3",
   "metadata": {},
   "outputs": [],
   "source": [
    "# make dataframe features only selected features\n",
    "dfFeatures=dfTrain3[['NumDash_Standardized','PathLength_Standardized','UrlLength_Standardized','PathLevel_Standardized','DomainInPaths','RandomString','InsecureForms']]\n",
    "Y=dfTrain3['CLASS_LABEL']\n",
    "X=dfFeatures"
   ]
  },
  {
   "cell_type": "markdown",
   "id": "065d9dc5",
   "metadata": {},
   "source": [
    "### Random Forest algorithm \n",
    "A random forests is multiple different decision trees and the average of the predictions from those trees is used to make its prediction. "
   ]
  },
  {
   "cell_type": "markdown",
   "id": "3aa03d3d",
   "metadata": {},
   "source": [
    "#### Random Forests HyperParameter selection\n",
    "n_esitmators is set to 1000. The higher the n_estimators value, the better the performance and the more stable the predictions. The default of 100 n_estimators gave us an accuracy score of 0.82. n_estimators was increased to 1000 to increase performance. I didnt choose a higher because of the long computation times.\n",
    "Using K-fold we determined that at max_depth = 7 the model performs the best. The models accuracy increases until it hits 7, after that the accuracy begins to decline due to overfitting."
   ]
  },
  {
   "cell_type": "code",
   "execution_count": 5,
   "id": "b2b0a5ec",
   "metadata": {},
   "outputs": [
    {
     "name": "stdout",
     "output_type": "stream",
     "text": [
      "0.8178090334128083\n"
     ]
    },
    {
     "name": "stderr",
     "output_type": "stream",
     "text": [
      "C:\\Users\\jlusk\\anaconda3\\lib\\site-packages\\sklearn\\utils\\deprecation.py:87: FutureWarning: Function plot_roc_curve is deprecated; Function :func:`plot_roc_curve` is deprecated in 1.0 and will be removed in 1.2. Use one of the class methods: :meth:`sklearn.metric.RocCurveDisplay.from_predictions` or :meth:`sklearn.metric.RocCurveDisplay.from_estimator`.\n",
      "  warnings.warn(msg, category=FutureWarning)\n"
     ]
    },
    {
     "name": "stdout",
     "output_type": "stream",
     "text": [
      "0.82254078927157\n"
     ]
    },
    {
     "name": "stderr",
     "output_type": "stream",
     "text": [
      "C:\\Users\\jlusk\\anaconda3\\lib\\site-packages\\sklearn\\utils\\deprecation.py:87: FutureWarning: Function plot_roc_curve is deprecated; Function :func:`plot_roc_curve` is deprecated in 1.0 and will be removed in 1.2. Use one of the class methods: :meth:`sklearn.metric.RocCurveDisplay.from_predictions` or :meth:`sklearn.metric.RocCurveDisplay.from_estimator`.\n",
      "  warnings.warn(msg, category=FutureWarning)\n"
     ]
    },
    {
     "data": {
      "image/png": "[encoded data removed]",
      "text/plain": [
       "<Figure size 432x288 with 1 Axes>"
      ]
     },
     "metadata": {
      "needs_background": "light"
     },
     "output_type": "display_data"
    }
   ],
   "source": [
    "### Fit a std classification tree \n",
    "from sklearn.tree import DecisionTreeClassifier\n",
    "from sklearn.model_selection import train_test_split\n",
    "\n",
    "X_train, X_test, Y_train, Y_test = train_test_split(X, Y,test_size=0.50,shuffle=False,random_state=1)\n",
    "clf = DecisionTreeClassifier(max_depth=6)\n",
    "clf.fit(X_train, Y_train)\n",
    " \n",
    "Y_test_predicted=clf.predict(X_test)\n",
    " \n",
    "from sklearn.metrics import roc_auc_score\n",
    "from sklearn.metrics import plot_roc_curve\n",
    "auc=roc_auc_score(Y_test, Y_test_predicted)\n",
    "print(auc)\n",
    "fig, ax = plt.subplots()\n",
    "plot_roc_curve(clf, X_test, Y_test,name='Tree', lw=1, ax=ax)\n",
    "\n",
    "# Fit a random forest with 100 trees using 400 random training cases for each tree\n",
    "\n",
    "from sklearn.ensemble import RandomForestClassifier\n",
    "rfclf=RandomForestClassifier(n_estimators=1000, max_depth=6,random_state=1, max_samples=400)\n",
    "rfclf.fit(X_train, Y_train)\n",
    " \n",
    "Y_test_predicted=rfclf.predict(X_test)\n",
    " \n",
    "auc=roc_auc_score(Y_test, Y_test_predicted)\n",
    "print(auc)\n",
    "plot_roc_curve(rfclf, X_test, Y_test,name='Forest', lw=1, ax=ax)\n",
    " \n",
    " \n",
    "plt.show()"
   ]
  },
  {
   "cell_type": "markdown",
   "id": "ba0d8e59",
   "metadata": {},
   "source": [
    "#### Results\n",
    "The graph shows us the ROC of the decision tree classifier and random forests. forests is the better classifer to use with our model. The forest model performs better because it uses the average prediction of each of its trees to make its prediction. The Tree model usually performs better than any idividual tree of the forest."
   ]
  },
  {
   "cell_type": "markdown",
   "id": "cec9988b",
   "metadata": {},
   "source": [
    "### SVM algorithm\n",
    "SVM's are discriminative classification algorithm. It finds a equation that is able to discriminate data points of the features. It draws a line and one side of the line says it is a phishing email and the other tells us it is not a phishing email."
   ]
  },
  {
   "cell_type": "markdown",
   "id": "7ffde0c1",
   "metadata": {},
   "source": [
    "##### Tuning and selecting the best C value for SVM algorithm on data\n",
    "\n",
    "large C = smaller error line boundries\n",
    "\n",
    "Smaller c = larger error line boundries\n",
    "\n",
    "Smaller C means better generalization\n",
    "\n",
    "Larger C value = beter performance on the training set\n",
    "\n",
    "We want our model to be able to generalize better so we will tune the algorithm for the smallest C possible keeping F1 robust. \n",
    "\n",
    "##### Model testing for SVM algorithm will use gridseach on kfolds\n",
    "A gridsearch was used to test through 'c' values and kernel types. \n"
   ]
  },
  {
   "cell_type": "code",
   "execution_count": 6,
   "id": "d480c89f",
   "metadata": {},
   "outputs": [
    {
     "name": "stdout",
     "output_type": "stream",
     "text": [
      "Fitting 10 folds for each of 40 candidates, totalling 400 fits\n",
      "[CV 1/10] END C=0.1, kernel=poly; f1: (test=0.829) precision: (test=0.754) recall: (test=0.919) roc_auc: (test=0.868) total time=   0.4s\n",
      "[CV 2/10] END C=0.1, kernel=poly; f1: (test=0.824) precision: (test=0.747) recall: (test=0.919) roc_auc: (test=0.833) total time=   0.4s\n",
      "[CV 3/10] END C=0.1, kernel=poly; f1: (test=0.802) precision: (test=0.760) recall: (test=0.850) roc_auc: (test=0.834) total time=   0.4s\n",
      "[CV 4/10] END C=0.1, kernel=poly; f1: (test=0.832) precision: (test=0.758) recall: (test=0.923) roc_auc: (test=0.857) total time=   0.4s\n",
      "[CV 5/10] END C=0.1, kernel=poly; f1: (test=0.836) precision: (test=0.747) recall: (test=0.948) roc_auc: (test=0.856) total time=   0.4s\n",
      "[CV 6/10] END C=0.1, kernel=poly; f1: (test=0.837) precision: (test=0.772) recall: (test=0.914) roc_auc: (test=0.888) total time=   0.4s\n",
      "[CV 7/10] END C=0.1, kernel=poly; f1: (test=0.777) precision: (test=0.699) recall: (test=0.876) roc_auc: (test=0.797) total time=   0.4s\n",
      "[CV 8/10] END C=0.1, kernel=poly; f1: (test=0.829) precision: (test=0.756) recall: (test=0.918) roc_auc: (test=0.854) total time=   0.4s\n",
      "[CV 9/10] END C=0.1, kernel=poly; f1: (test=0.825) precision: (test=0.761) recall: (test=0.901) roc_auc: (test=0.853) total time=   0.4s\n",
      "[CV 10/10] END C=0.1, kernel=poly; f1: (test=0.817) precision: (test=0.776) recall: (test=0.863) roc_auc: (test=0.856) total time=   0.4s\n",
      "[CV 1/10] END C=0.1, kernel=rbf; f1: (test=0.831) precision: (test=0.768) recall: (test=0.906) roc_auc: (test=0.891) total time=   0.5s\n",
      "[CV 2/10] END C=0.1, kernel=rbf; f1: (test=0.824) precision: (test=0.747) recall: (test=0.919) roc_auc: (test=0.855) total time=   0.5s\n",
      "[CV 3/10] END C=0.1, kernel=rbf; f1: (test=0.799) precision: (test=0.754) recall: (test=0.850) roc_auc: (test=0.852) total time=   0.5s\n",
      "[CV 4/10] END C=0.1, kernel=rbf; f1: (test=0.831) precision: (test=0.762) recall: (test=0.915) roc_auc: (test=0.880) total time=   0.5s\n",
      "[CV 5/10] END C=0.1, kernel=rbf; f1: (test=0.834) precision: (test=0.752) recall: (test=0.936) roc_auc: (test=0.871) total time=   0.5s\n",
      "[CV 6/10] END C=0.1, kernel=rbf; f1: (test=0.835) precision: (test=0.771) recall: (test=0.910) roc_auc: (test=0.889) total time=   0.5s\n",
      "[CV 7/10] END C=0.1, kernel=rbf; f1: (test=0.785) precision: (test=0.709) recall: (test=0.880) roc_auc: (test=0.833) total time=   0.5s\n",
      "[CV 8/10] END C=0.1, kernel=rbf; f1: (test=0.821) precision: (test=0.757) recall: (test=0.897) roc_auc: (test=0.858) total time=   0.5s\n",
      "[CV 9/10] END C=0.1, kernel=rbf; f1: (test=0.817) precision: (test=0.754) recall: (test=0.893) roc_auc: (test=0.874) total time=   0.5s\n",
      "[CV 10/10] END C=0.1, kernel=rbf; f1: (test=0.819) precision: (test=0.779) recall: (test=0.863) roc_auc: (test=0.859) total time=   0.5s\n",
      "[CV 1/10] END C=0.1, kernel=linear; f1: (test=0.793) precision: (test=0.690) recall: (test=0.932) roc_auc: (test=0.855) total time=   0.3s\n",
      "[CV 2/10] END C=0.1, kernel=linear; f1: (test=0.807) precision: (test=0.709) recall: (test=0.936) roc_auc: (test=0.821) total time=   0.3s\n",
      "[CV 3/10] END C=0.1, kernel=linear; f1: (test=0.777) precision: (test=0.697) recall: (test=0.876) roc_auc: (test=0.827) total time=   0.3s\n",
      "[CV 4/10] END C=0.1, kernel=linear; f1: (test=0.817) precision: (test=0.715) recall: (test=0.953) roc_auc: (test=0.870) total time=   0.3s\n",
      "[CV 5/10] END C=0.1, kernel=linear; f1: (test=0.797) precision: (test=0.681) recall: (test=0.961) roc_auc: (test=0.845) total time=   0.3s\n",
      "[CV 6/10] END C=0.1, kernel=linear; f1: (test=0.786) precision: (test=0.685) recall: (test=0.923) roc_auc: (test=0.859) total time=   0.3s\n",
      "[CV 7/10] END C=0.1, kernel=linear; f1: (test=0.758) precision: (test=0.654) recall: (test=0.901) roc_auc: (test=0.796) total time=   0.3s\n",
      "[CV 8/10] END C=0.1, kernel=linear; f1: (test=0.799) precision: (test=0.700) recall: (test=0.931) roc_auc: (test=0.844) total time=   0.3s\n",
      "[CV 9/10] END C=0.1, kernel=linear; f1: (test=0.797) precision: (test=0.699) recall: (test=0.927) roc_auc: (test=0.850) total time=   0.3s\n",
      "[CV 10/10] END C=0.1, kernel=linear; f1: (test=0.793) precision: (test=0.711) recall: (test=0.897) roc_auc: (test=0.836) total time=   0.3s\n",
      "[CV 1/10] END C=0.1, kernel=sigmoid; f1: (test=0.626) precision: (test=0.623) recall: (test=0.628) roc_auc: (test=0.681) total time=   0.5s\n",
      "[CV 2/10] END C=0.1, kernel=sigmoid; f1: (test=0.658) precision: (test=0.642) recall: (test=0.675) roc_auc: (test=0.711) total time=   0.5s\n",
      "[CV 3/10] END C=0.1, kernel=sigmoid; f1: (test=0.586) precision: (test=0.643) recall: (test=0.538) roc_auc: (test=0.693) total time=   0.5s\n",
      "[CV 4/10] END C=0.1, kernel=sigmoid; f1: (test=0.649) precision: (test=0.658) recall: (test=0.641) roc_auc: (test=0.713) total time=   0.5s\n",
      "[CV 5/10] END C=0.1, kernel=sigmoid; f1: (test=0.639) precision: (test=0.615) recall: (test=0.665) roc_auc: (test=0.675) total time=   0.5s\n",
      "[CV 6/10] END C=0.1, kernel=sigmoid; f1: (test=0.650) precision: (test=0.643) recall: (test=0.657) roc_auc: (test=0.703) total time=   0.5s\n",
      "[CV 7/10] END C=0.1, kernel=sigmoid; f1: (test=0.629) precision: (test=0.611) recall: (test=0.648) roc_auc: (test=0.656) total time=   0.5s\n",
      "[CV 8/10] END C=0.1, kernel=sigmoid; f1: (test=0.630) precision: (test=0.628) recall: (test=0.631) roc_auc: (test=0.682) total time=   0.5s\n",
      "[CV 9/10] END C=0.1, kernel=sigmoid; f1: (test=0.605) precision: (test=0.584) recall: (test=0.627) roc_auc: (test=0.652) total time=   0.5s\n",
      "[CV 10/10] END C=0.1, kernel=sigmoid; f1: (test=0.601) precision: (test=0.611) recall: (test=0.592) roc_auc: (test=0.665) total time=   0.5s\n",
      "[CV 1/10] END C=11.200000000000001, kernel=poly; f1: (test=0.829) precision: (test=0.774) recall: (test=0.893) roc_auc: (test=0.885) total time=   1.0s\n",
      "[CV 2/10] END C=11.200000000000001, kernel=poly; f1: (test=0.832) precision: (test=0.758) recall: (test=0.923) roc_auc: (test=0.853) total time=   0.8s\n",
      "[CV 3/10] END C=11.200000000000001, kernel=poly; f1: (test=0.803) precision: (test=0.751) recall: (test=0.863) roc_auc: (test=0.847) total time=   0.9s\n",
      "[CV 4/10] END C=11.200000000000001, kernel=poly; f1: (test=0.860) precision: (test=0.789) recall: (test=0.944) roc_auc: (test=0.896) total time=   1.1s\n",
      "[CV 5/10] END C=11.200000000000001, kernel=poly; f1: (test=0.837) precision: (test=0.757) recall: (test=0.936) roc_auc: (test=0.878) total time=   0.8s\n",
      "[CV 6/10] END C=11.200000000000001, kernel=poly; f1: (test=0.853) precision: (test=0.796) recall: (test=0.918) roc_auc: (test=0.899) total time=   1.2s\n",
      "[CV 7/10] END C=11.200000000000001, kernel=poly; f1: (test=0.795) precision: (test=0.713) recall: (test=0.897) roc_auc: (test=0.838) total time=   0.8s\n",
      "[CV 8/10] END C=11.200000000000001, kernel=poly; f1: (test=0.833) precision: (test=0.762) recall: (test=0.918) roc_auc: (test=0.870) total time=   1.0s\n",
      "[CV 9/10] END C=11.200000000000001, kernel=poly; f1: (test=0.836) precision: (test=0.767) recall: (test=0.918) roc_auc: (test=0.876) total time=   0.8s\n",
      "[CV 10/10] END C=11.200000000000001, kernel=poly; f1: (test=0.837) precision: (test=0.798) recall: (test=0.880) roc_auc: (test=0.874) total time=   1.0s\n",
      "[CV 1/10] END C=11.200000000000001, kernel=rbf; f1: (test=0.846) precision: (test=0.778) recall: (test=0.927) roc_auc: (test=0.887) total time=   0.5s\n",
      "[CV 2/10] END C=11.200000000000001, kernel=rbf; f1: (test=0.839) precision: (test=0.753) recall: (test=0.949) roc_auc: (test=0.872) total time=   0.5s\n",
      "[CV 3/10] END C=11.200000000000001, kernel=rbf; f1: (test=0.824) precision: (test=0.766) recall: (test=0.893) roc_auc: (test=0.875) total time=   0.5s\n",
      "[CV 4/10] END C=11.200000000000001, kernel=rbf; f1: (test=0.862) precision: (test=0.792) recall: (test=0.944) roc_auc: (test=0.889) total time=   0.5s\n",
      "[CV 5/10] END C=11.200000000000001, kernel=rbf; f1: (test=0.848) precision: (test=0.761) recall: (test=0.957) roc_auc: (test=0.881) total time=   0.5s\n",
      "[CV 6/10] END C=11.200000000000001, kernel=rbf; f1: (test=0.855) precision: (test=0.785) recall: (test=0.940) roc_auc: (test=0.899) total time=   0.5s\n",
      "[CV 7/10] END C=11.200000000000001, kernel=rbf; f1: (test=0.806) precision: (test=0.718) recall: (test=0.918) roc_auc: (test=0.854) total time=   0.5s\n",
      "[CV 8/10] END C=11.200000000000001, kernel=rbf; f1: (test=0.841) precision: (test=0.767) recall: (test=0.931) roc_auc: (test=0.879) total time=   0.5s\n",
      "[CV 9/10] END C=11.200000000000001, kernel=rbf; f1: (test=0.840) precision: (test=0.769) recall: (test=0.927) roc_auc: (test=0.897) total time=   0.5s\n",
      "[CV 10/10] END C=11.200000000000001, kernel=rbf; f1: (test=0.846) precision: (test=0.791) recall: (test=0.910) roc_auc: (test=0.899) total time=   0.5s\n",
      "[CV 1/10] END C=11.200000000000001, kernel=linear; f1: (test=0.792) precision: (test=0.691) recall: (test=0.927) roc_auc: (test=0.854) total time=   1.1s\n",
      "[CV 2/10] END C=11.200000000000001, kernel=linear; f1: (test=0.807) precision: (test=0.709) recall: (test=0.936) roc_auc: (test=0.820) total time=   1.0s\n",
      "[CV 3/10] END C=11.200000000000001, kernel=linear; f1: (test=0.777) precision: (test=0.697) recall: (test=0.876) roc_auc: (test=0.827) total time=   1.0s\n",
      "[CV 4/10] END C=11.200000000000001, kernel=linear; f1: (test=0.820) precision: (test=0.719) recall: (test=0.953) roc_auc: (test=0.870) total time=   1.0s\n",
      "[CV 5/10] END C=11.200000000000001, kernel=linear; f1: (test=0.799) precision: (test=0.683) recall: (test=0.961) roc_auc: (test=0.846) total time=   1.0s\n",
      "[CV 6/10] END C=11.200000000000001, kernel=linear; f1: (test=0.788) precision: (test=0.687) recall: (test=0.923) roc_auc: (test=0.859) total time=   1.0s\n",
      "[CV 7/10] END C=11.200000000000001, kernel=linear; f1: (test=0.754) precision: (test=0.652) recall: (test=0.893) roc_auc: (test=0.797) total time=   0.9s\n",
      "[CV 8/10] END C=11.200000000000001, kernel=linear; f1: (test=0.799) precision: (test=0.701) recall: (test=0.927) roc_auc: (test=0.844) total time=   1.0s\n",
      "[CV 9/10] END C=11.200000000000001, kernel=linear; f1: (test=0.799) precision: (test=0.701) recall: (test=0.927) roc_auc: (test=0.851) total time=   1.0s\n",
      "[CV 10/10] END C=11.200000000000001, kernel=linear; f1: (test=0.795) precision: (test=0.713) recall: (test=0.897) roc_auc: (test=0.836) total time=   0.9s\n",
      "[CV 1/10] END C=11.200000000000001, kernel=sigmoid; f1: (test=0.610) precision: (test=0.605) recall: (test=0.615) roc_auc: (test=0.647) total time=   0.4s\n",
      "[CV 2/10] END C=11.200000000000001, kernel=sigmoid; f1: (test=0.614) precision: (test=0.609) recall: (test=0.620) roc_auc: (test=0.679) total time=   0.3s\n",
      "[CV 3/10] END C=11.200000000000001, kernel=sigmoid; f1: (test=0.562) precision: (test=0.599) recall: (test=0.530) roc_auc: (test=0.661) total time=   0.3s\n",
      "[CV 4/10] END C=11.200000000000001, kernel=sigmoid; f1: (test=0.626) precision: (test=0.637) recall: (test=0.615) roc_auc: (test=0.673) total time=   0.4s\n",
      "[CV 5/10] END C=11.200000000000001, kernel=sigmoid; f1: (test=0.650) precision: (test=0.643) recall: (test=0.657) roc_auc: (test=0.690) total time=   0.2s\n",
      "[CV 6/10] END C=11.200000000000001, kernel=sigmoid; f1: (test=0.620) precision: (test=0.617) recall: (test=0.622) roc_auc: (test=0.668) total time=   0.3s\n",
      "[CV 7/10] END C=11.200000000000001, kernel=sigmoid; f1: (test=0.606) precision: (test=0.608) recall: (test=0.605) roc_auc: (test=0.625) total time=   0.3s\n",
      "[CV 8/10] END C=11.200000000000001, kernel=sigmoid; f1: (test=0.618) precision: (test=0.618) recall: (test=0.618) roc_auc: (test=0.650) total time=   0.4s\n",
      "[CV 9/10] END C=11.200000000000001, kernel=sigmoid; f1: (test=0.573) precision: (test=0.570) recall: (test=0.575) roc_auc: (test=0.614) total time=   0.4s\n",
      "[CV 10/10] END C=11.200000000000001, kernel=sigmoid; f1: (test=0.626) precision: (test=0.638) recall: (test=0.614) roc_auc: (test=0.689) total time=   0.3s\n",
      "[CV 1/10] END C=22.300000000000004, kernel=poly; f1: (test=0.837) precision: (test=0.781) recall: (test=0.902) roc_auc: (test=0.886) total time=   1.5s\n",
      "[CV 2/10] END C=22.300000000000004, kernel=poly; f1: (test=0.830) precision: (test=0.757) recall: (test=0.919) roc_auc: (test=0.853) total time=   1.2s\n",
      "[CV 3/10] END C=22.300000000000004, kernel=poly; f1: (test=0.805) precision: (test=0.754) recall: (test=0.863) roc_auc: (test=0.846) total time=   1.5s\n",
      "[CV 4/10] END C=22.300000000000004, kernel=poly; f1: (test=0.863) precision: (test=0.788) recall: (test=0.953) roc_auc: (test=0.897) total time=   1.7s\n",
      "[CV 5/10] END C=22.300000000000004, kernel=poly; f1: (test=0.841) precision: (test=0.760) recall: (test=0.940) roc_auc: (test=0.879) total time=   1.2s\n",
      "[CV 6/10] END C=22.300000000000004, kernel=poly; f1: (test=0.848) precision: (test=0.787) recall: (test=0.918) roc_auc: (test=0.898) total time=   1.5s\n",
      "[CV 7/10] END C=22.300000000000004, kernel=poly; f1: (test=0.794) precision: (test=0.715) recall: (test=0.893) roc_auc: (test=0.840) total time=   1.1s\n",
      "[CV 8/10] END C=22.300000000000004, kernel=poly; f1: (test=0.834) precision: (test=0.766) recall: (test=0.914) roc_auc: (test=0.868) total time=   1.3s\n",
      "[CV 9/10] END C=22.300000000000004, kernel=poly; f1: (test=0.838) precision: (test=0.768) recall: (test=0.923) roc_auc: (test=0.878) total time=   2.1s\n",
      "[CV 10/10] END C=22.300000000000004, kernel=poly; f1: (test=0.844) precision: (test=0.798) recall: (test=0.897) roc_auc: (test=0.877) total time=   1.9s\n",
      "[CV 1/10] END C=22.300000000000004, kernel=rbf; f1: (test=0.849) precision: (test=0.785) recall: (test=0.923) roc_auc: (test=0.885) total time=   0.5s\n",
      "[CV 2/10] END C=22.300000000000004, kernel=rbf; f1: (test=0.843) precision: (test=0.758) recall: (test=0.949) roc_auc: (test=0.871) total time=   0.5s\n",
      "[CV 3/10] END C=22.300000000000004, kernel=rbf; f1: (test=0.824) precision: (test=0.766) recall: (test=0.893) roc_auc: (test=0.877) total time=   0.5s\n",
      "[CV 4/10] END C=22.300000000000004, kernel=rbf; f1: (test=0.862) precision: (test=0.792) recall: (test=0.944) roc_auc: (test=0.887) total time=   0.5s\n",
      "[CV 5/10] END C=22.300000000000004, kernel=rbf; f1: (test=0.858) precision: (test=0.775) recall: (test=0.961) roc_auc: (test=0.883) total time=   0.5s\n",
      "[CV 6/10] END C=22.300000000000004, kernel=rbf; f1: (test=0.859) precision: (test=0.791) recall: (test=0.940) roc_auc: (test=0.898) total time=   0.5s\n",
      "[CV 7/10] END C=22.300000000000004, kernel=rbf; f1: (test=0.808) precision: (test=0.719) recall: (test=0.923) roc_auc: (test=0.852) total time=   0.5s\n",
      "[CV 8/10] END C=22.300000000000004, kernel=rbf; f1: (test=0.839) precision: (test=0.766) recall: (test=0.927) roc_auc: (test=0.881) total time=   0.5s\n",
      "[CV 9/10] END C=22.300000000000004, kernel=rbf; f1: (test=0.830) precision: (test=0.761) recall: (test=0.914) roc_auc: (test=0.896) total time=   0.5s\n",
      "[CV 10/10] END C=22.300000000000004, kernel=rbf; f1: (test=0.848) precision: (test=0.794) recall: (test=0.910) roc_auc: (test=0.901) total time=   0.5s\n",
      "[CV 1/10] END C=22.300000000000004, kernel=linear; f1: (test=0.794) precision: (test=0.692) recall: (test=0.932) roc_auc: (test=0.854) total time=   1.4s\n",
      "[CV 2/10] END C=22.300000000000004, kernel=linear; f1: (test=0.807) precision: (test=0.709) recall: (test=0.936) roc_auc: (test=0.821) total time=   1.5s\n",
      "[CV 3/10] END C=22.300000000000004, kernel=linear; f1: (test=0.777) precision: (test=0.697) recall: (test=0.876) roc_auc: (test=0.827) total time=   1.4s\n",
      "[CV 4/10] END C=22.300000000000004, kernel=linear; f1: (test=0.820) precision: (test=0.719) recall: (test=0.953) roc_auc: (test=0.870) total time=   1.5s\n",
      "[CV 5/10] END C=22.300000000000004, kernel=linear; f1: (test=0.799) precision: (test=0.683) recall: (test=0.961) roc_auc: (test=0.846) total time=   1.5s\n",
      "[CV 6/10] END C=22.300000000000004, kernel=linear; f1: (test=0.788) precision: (test=0.687) recall: (test=0.923) roc_auc: (test=0.859) total time=   1.5s\n",
      "[CV 7/10] END C=22.300000000000004, kernel=linear; f1: (test=0.754) precision: (test=0.652) recall: (test=0.893) roc_auc: (test=0.797) total time=   1.4s\n",
      "[CV 8/10] END C=22.300000000000004, kernel=linear; f1: (test=0.799) precision: (test=0.701) recall: (test=0.927) roc_auc: (test=0.844) total time=   1.5s\n",
      "[CV 9/10] END C=22.300000000000004, kernel=linear; f1: (test=0.799) precision: (test=0.701) recall: (test=0.927) roc_auc: (test=0.851) total time=   1.4s\n",
      "[CV 10/10] END C=22.300000000000004, kernel=linear; f1: (test=0.795) precision: (test=0.713) recall: (test=0.897) roc_auc: (test=0.836) total time=   1.3s\n",
      "[CV 1/10] END C=22.300000000000004, kernel=sigmoid; f1: (test=0.610) precision: (test=0.605) recall: (test=0.615) roc_auc: (test=0.646) total time=   0.4s\n",
      "[CV 2/10] END C=22.300000000000004, kernel=sigmoid; f1: (test=0.614) precision: (test=0.609) recall: (test=0.620) roc_auc: (test=0.679) total time=   0.3s\n",
      "[CV 3/10] END C=22.300000000000004, kernel=sigmoid; f1: (test=0.562) precision: (test=0.599) recall: (test=0.530) roc_auc: (test=0.661) total time=   0.3s\n",
      "[CV 4/10] END C=22.300000000000004, kernel=sigmoid; f1: (test=0.626) precision: (test=0.637) recall: (test=0.615) roc_auc: (test=0.673) total time=   0.3s\n",
      "[CV 5/10] END C=22.300000000000004, kernel=sigmoid; f1: (test=0.650) precision: (test=0.643) recall: (test=0.657) roc_auc: (test=0.690) total time=   0.2s\n",
      "[CV 6/10] END C=22.300000000000004, kernel=sigmoid; f1: (test=0.620) precision: (test=0.617) recall: (test=0.622) roc_auc: (test=0.668) total time=   0.3s\n",
      "[CV 7/10] END C=22.300000000000004, kernel=sigmoid; f1: (test=0.603) precision: (test=0.606) recall: (test=0.601) roc_auc: (test=0.625) total time=   0.3s\n",
      "[CV 8/10] END C=22.300000000000004, kernel=sigmoid; f1: (test=0.619) precision: (test=0.621) recall: (test=0.618) roc_auc: (test=0.650) total time=   0.4s\n",
      "[CV 9/10] END C=22.300000000000004, kernel=sigmoid; f1: (test=0.580) precision: (test=0.576) recall: (test=0.584) roc_auc: (test=0.614) total time=   0.4s\n",
      "[CV 10/10] END C=22.300000000000004, kernel=sigmoid; f1: (test=0.626) precision: (test=0.638) recall: (test=0.614) roc_auc: (test=0.689) total time=   0.3s\n",
      "[CV 1/10] END C=33.400000000000006, kernel=poly; f1: (test=0.837) precision: (test=0.781) recall: (test=0.902) roc_auc: (test=0.886) total time=   1.7s\n",
      "[CV 2/10] END C=33.400000000000006, kernel=poly; f1: (test=0.837) precision: (test=0.758) recall: (test=0.936) roc_auc: (test=0.854) total time=   1.9s\n",
      "[CV 3/10] END C=33.400000000000006, kernel=poly; f1: (test=0.804) precision: (test=0.749) recall: (test=0.868) roc_auc: (test=0.846) total time=   1.9s\n",
      "[CV 4/10] END C=33.400000000000006, kernel=poly; f1: (test=0.863) precision: (test=0.788) recall: (test=0.953) roc_auc: (test=0.897) total time=   2.7s\n",
      "[CV 5/10] END C=33.400000000000006, kernel=poly; f1: (test=0.839) precision: (test=0.758) recall: (test=0.940) roc_auc: (test=0.879) total time=   1.8s\n",
      "[CV 6/10] END C=33.400000000000006, kernel=poly; f1: (test=0.853) precision: (test=0.793) recall: (test=0.923) roc_auc: (test=0.897) total time=   2.0s\n",
      "[CV 7/10] END C=33.400000000000006, kernel=poly; f1: (test=0.801) precision: (test=0.718) recall: (test=0.906) roc_auc: (test=0.843) total time=   1.3s\n",
      "[CV 8/10] END C=33.400000000000006, kernel=poly; f1: (test=0.834) precision: (test=0.766) recall: (test=0.914) roc_auc: (test=0.868) total time=   1.6s\n",
      "[CV 9/10] END C=33.400000000000006, kernel=poly; f1: (test=0.838) precision: (test=0.768) recall: (test=0.923) roc_auc: (test=0.882) total time=   2.4s\n",
      "[CV 10/10] END C=33.400000000000006, kernel=poly; f1: (test=0.844) precision: (test=0.798) recall: (test=0.897) roc_auc: (test=0.877) total time=   1.7s\n",
      "[CV 1/10] END C=33.400000000000006, kernel=rbf; f1: (test=0.852) precision: (test=0.791) recall: (test=0.923) roc_auc: (test=0.885) total time=   0.6s\n",
      "[CV 2/10] END C=33.400000000000006, kernel=rbf; f1: (test=0.846) precision: (test=0.763) recall: (test=0.949) roc_auc: (test=0.872) total time=   0.6s\n",
      "[CV 3/10] END C=33.400000000000006, kernel=rbf; f1: (test=0.825) precision: (test=0.770) recall: (test=0.889) roc_auc: (test=0.876) total time=   0.6s\n",
      "[CV 4/10] END C=33.400000000000006, kernel=rbf; f1: (test=0.864) precision: (test=0.793) recall: (test=0.949) roc_auc: (test=0.885) total time=   0.6s\n",
      "[CV 5/10] END C=33.400000000000006, kernel=rbf; f1: (test=0.860) precision: (test=0.776) recall: (test=0.966) roc_auc: (test=0.885) total time=   0.6s\n",
      "[CV 6/10] END C=33.400000000000006, kernel=rbf; f1: (test=0.857) precision: (test=0.790) recall: (test=0.936) roc_auc: (test=0.899) total time=   0.6s\n",
      "[CV 7/10] END C=33.400000000000006, kernel=rbf; f1: (test=0.806) precision: (test=0.718) recall: (test=0.918) roc_auc: (test=0.854) total time=   0.6s\n",
      "[CV 8/10] END C=33.400000000000006, kernel=rbf; f1: (test=0.842) precision: (test=0.765) recall: (test=0.936) roc_auc: (test=0.880) total time=   0.6s\n",
      "[CV 9/10] END C=33.400000000000006, kernel=rbf; f1: (test=0.834) precision: (test=0.766) recall: (test=0.914) roc_auc: (test=0.896) total time=   0.6s\n",
      "[CV 10/10] END C=33.400000000000006, kernel=rbf; f1: (test=0.845) precision: (test=0.795) recall: (test=0.901) roc_auc: (test=0.901) total time=   0.6s\n",
      "[CV 1/10] END C=33.400000000000006, kernel=linear; f1: (test=0.792) precision: (test=0.691) recall: (test=0.927) roc_auc: (test=0.854) total time=   1.9s\n",
      "[CV 2/10] END C=33.400000000000006, kernel=linear; f1: (test=0.807) precision: (test=0.709) recall: (test=0.936) roc_auc: (test=0.821) total time=   2.0s\n",
      "[CV 3/10] END C=33.400000000000006, kernel=linear; f1: (test=0.777) precision: (test=0.697) recall: (test=0.876) roc_auc: (test=0.827) total time=   1.8s\n",
      "[CV 4/10] END C=33.400000000000006, kernel=linear; f1: (test=0.818) precision: (test=0.717) recall: (test=0.953) roc_auc: (test=0.871) total time=   1.9s\n",
      "[CV 5/10] END C=33.400000000000006, kernel=linear; f1: (test=0.799) precision: (test=0.683) recall: (test=0.961) roc_auc: (test=0.846) total time=   1.9s\n",
      "[CV 6/10] END C=33.400000000000006, kernel=linear; f1: (test=0.788) precision: (test=0.687) recall: (test=0.923) roc_auc: (test=0.859) total time=   1.9s\n",
      "[CV 7/10] END C=33.400000000000006, kernel=linear; f1: (test=0.754) precision: (test=0.652) recall: (test=0.893) roc_auc: (test=0.797) total time=   1.8s\n",
      "[CV 8/10] END C=33.400000000000006, kernel=linear; f1: (test=0.799) precision: (test=0.701) recall: (test=0.927) roc_auc: (test=0.844) total time=   2.0s\n",
      "[CV 9/10] END C=33.400000000000006, kernel=linear; f1: (test=0.799) precision: (test=0.701) recall: (test=0.927) roc_auc: (test=0.851) total time=   1.8s\n",
      "[CV 10/10] END C=33.400000000000006, kernel=linear; f1: (test=0.795) precision: (test=0.713) recall: (test=0.897) roc_auc: (test=0.836) total time=   1.8s\n",
      "[CV 1/10] END C=33.400000000000006, kernel=sigmoid; f1: (test=0.610) precision: (test=0.605) recall: (test=0.615) roc_auc: (test=0.646) total time=   0.3s\n",
      "[CV 2/10] END C=33.400000000000006, kernel=sigmoid; f1: (test=0.614) precision: (test=0.609) recall: (test=0.620) roc_auc: (test=0.679) total time=   0.3s\n",
      "[CV 3/10] END C=33.400000000000006, kernel=sigmoid; f1: (test=0.566) precision: (test=0.601) recall: (test=0.534) roc_auc: (test=0.661) total time=   0.3s\n",
      "[CV 4/10] END C=33.400000000000006, kernel=sigmoid; f1: (test=0.626) precision: (test=0.637) recall: (test=0.615) roc_auc: (test=0.673) total time=   0.3s\n",
      "[CV 5/10] END C=33.400000000000006, kernel=sigmoid; f1: (test=0.650) precision: (test=0.643) recall: (test=0.657) roc_auc: (test=0.690) total time=   0.2s\n",
      "[CV 6/10] END C=33.400000000000006, kernel=sigmoid; f1: (test=0.620) precision: (test=0.617) recall: (test=0.622) roc_auc: (test=0.668) total time=   0.3s\n",
      "[CV 7/10] END C=33.400000000000006, kernel=sigmoid; f1: (test=0.603) precision: (test=0.606) recall: (test=0.601) roc_auc: (test=0.625) total time=   0.3s\n",
      "[CV 8/10] END C=33.400000000000006, kernel=sigmoid; f1: (test=0.619) precision: (test=0.621) recall: (test=0.618) roc_auc: (test=0.650) total time=   0.4s\n",
      "[CV 9/10] END C=33.400000000000006, kernel=sigmoid; f1: (test=0.573) precision: (test=0.570) recall: (test=0.575) roc_auc: (test=0.614) total time=   0.3s\n",
      "[CV 10/10] END C=33.400000000000006, kernel=sigmoid; f1: (test=0.626) precision: (test=0.638) recall: (test=0.614) roc_auc: (test=0.689) total time=   0.3s\n",
      "[CV 1/10] END C=44.50000000000001, kernel=poly; f1: (test=0.835) precision: (test=0.781) recall: (test=0.897) roc_auc: (test=0.886) total time=   2.2s\n",
      "[CV 2/10] END C=44.50000000000001, kernel=poly; f1: (test=0.837) precision: (test=0.758) recall: (test=0.936) roc_auc: (test=0.854) total time=   1.8s\n",
      "[CV 3/10] END C=44.50000000000001, kernel=poly; f1: (test=0.810) precision: (test=0.754) recall: (test=0.876) roc_auc: (test=0.845) total time=   2.7s\n",
      "[CV 4/10] END C=44.50000000000001, kernel=poly; f1: (test=0.863) precision: (test=0.788) recall: (test=0.953) roc_auc: (test=0.895) total time=   3.0s\n",
      "[CV 5/10] END C=44.50000000000001, kernel=poly; f1: (test=0.842) precision: (test=0.763) recall: (test=0.940) roc_auc: (test=0.879) total time=   2.2s\n",
      "[CV 6/10] END C=44.50000000000001, kernel=poly; f1: (test=0.851) precision: (test=0.793) recall: (test=0.918) roc_auc: (test=0.896) total time=   3.6s\n",
      "[CV 7/10] END C=44.50000000000001, kernel=poly; f1: (test=0.799) precision: (test=0.715) recall: (test=0.906) roc_auc: (test=0.844) total time=   1.7s\n",
      "[CV 8/10] END C=44.50000000000001, kernel=poly; f1: (test=0.836) precision: (test=0.767) recall: (test=0.918) roc_auc: (test=0.868) total time=   3.0s\n",
      "[CV 9/10] END C=44.50000000000001, kernel=poly; f1: (test=0.842) precision: (test=0.771) recall: (test=0.927) roc_auc: (test=0.882) total time=   2.7s\n",
      "[CV 10/10] END C=44.50000000000001, kernel=poly; f1: (test=0.842) precision: (test=0.797) recall: (test=0.893) roc_auc: (test=0.877) total time=   2.0s\n",
      "[CV 1/10] END C=44.50000000000001, kernel=rbf; f1: (test=0.850) precision: (test=0.790) recall: (test=0.919) roc_auc: (test=0.886) total time=   0.6s\n",
      "[CV 2/10] END C=44.50000000000001, kernel=rbf; f1: (test=0.843) precision: (test=0.758) recall: (test=0.949) roc_auc: (test=0.872) total time=   0.6s\n",
      "[CV 3/10] END C=44.50000000000001, kernel=rbf; f1: (test=0.825) precision: (test=0.770) recall: (test=0.889) roc_auc: (test=0.874) total time=   0.6s\n",
      "[CV 4/10] END C=44.50000000000001, kernel=rbf; f1: (test=0.864) precision: (test=0.793) recall: (test=0.949) roc_auc: (test=0.886) total time=   0.6s\n",
      "[CV 5/10] END C=44.50000000000001, kernel=rbf; f1: (test=0.862) precision: (test=0.779) recall: (test=0.966) roc_auc: (test=0.886) total time=   0.6s\n",
      "[CV 6/10] END C=44.50000000000001, kernel=rbf; f1: (test=0.854) precision: (test=0.789) recall: (test=0.931) roc_auc: (test=0.901) total time=   0.6s\n",
      "[CV 7/10] END C=44.50000000000001, kernel=rbf; f1: (test=0.812) precision: (test=0.722) recall: (test=0.927) roc_auc: (test=0.854) total time=   0.6s\n",
      "[CV 8/10] END C=44.50000000000001, kernel=rbf; f1: (test=0.841) precision: (test=0.767) recall: (test=0.931) roc_auc: (test=0.878) total time=   0.6s\n",
      "[CV 9/10] END C=44.50000000000001, kernel=rbf; f1: (test=0.827) precision: (test=0.755) recall: (test=0.914) roc_auc: (test=0.895) total time=   0.6s\n",
      "[CV 10/10] END C=44.50000000000001, kernel=rbf; f1: (test=0.847) precision: (test=0.796) recall: (test=0.906) roc_auc: (test=0.902) total time=   0.6s\n",
      "[CV 1/10] END C=44.50000000000001, kernel=linear; f1: (test=0.792) precision: (test=0.691) recall: (test=0.927) roc_auc: (test=0.854) total time=   2.3s\n",
      "[CV 2/10] END C=44.50000000000001, kernel=linear; f1: (test=0.807) precision: (test=0.709) recall: (test=0.936) roc_auc: (test=0.821) total time=   2.3s\n",
      "[CV 3/10] END C=44.50000000000001, kernel=linear; f1: (test=0.777) precision: (test=0.697) recall: (test=0.876) roc_auc: (test=0.827) total time=   2.2s\n",
      "[CV 4/10] END C=44.50000000000001, kernel=linear; f1: (test=0.818) precision: (test=0.717) recall: (test=0.953) roc_auc: (test=0.871) total time=   2.4s\n",
      "[CV 5/10] END C=44.50000000000001, kernel=linear; f1: (test=0.799) precision: (test=0.683) recall: (test=0.961) roc_auc: (test=0.846) total time=   2.4s\n",
      "[CV 6/10] END C=44.50000000000001, kernel=linear; f1: (test=0.788) precision: (test=0.687) recall: (test=0.923) roc_auc: (test=0.860) total time=   2.3s\n",
      "[CV 7/10] END C=44.50000000000001, kernel=linear; f1: (test=0.754) precision: (test=0.652) recall: (test=0.893) roc_auc: (test=0.797) total time=   2.1s\n",
      "[CV 8/10] END C=44.50000000000001, kernel=linear; f1: (test=0.800) precision: (test=0.704) recall: (test=0.927) roc_auc: (test=0.844) total time=   2.3s\n",
      "[CV 9/10] END C=44.50000000000001, kernel=linear; f1: (test=0.799) precision: (test=0.701) recall: (test=0.927) roc_auc: (test=0.851) total time=   2.5s\n",
      "[CV 10/10] END C=44.50000000000001, kernel=linear; f1: (test=0.795) precision: (test=0.713) recall: (test=0.897) roc_auc: (test=0.836) total time=   2.2s\n",
      "[CV 1/10] END C=44.50000000000001, kernel=sigmoid; f1: (test=0.610) precision: (test=0.605) recall: (test=0.615) roc_auc: (test=0.646) total time=   0.4s\n",
      "[CV 2/10] END C=44.50000000000001, kernel=sigmoid; f1: (test=0.614) precision: (test=0.609) recall: (test=0.620) roc_auc: (test=0.678) total time=   0.3s\n",
      "[CV 3/10] END C=44.50000000000001, kernel=sigmoid; f1: (test=0.566) precision: (test=0.601) recall: (test=0.534) roc_auc: (test=0.661) total time=   0.3s\n",
      "[CV 4/10] END C=44.50000000000001, kernel=sigmoid; f1: (test=0.626) precision: (test=0.637) recall: (test=0.615) roc_auc: (test=0.673) total time=   0.3s\n",
      "[CV 5/10] END C=44.50000000000001, kernel=sigmoid; f1: (test=0.650) precision: (test=0.643) recall: (test=0.657) roc_auc: (test=0.690) total time=   0.2s\n",
      "[CV 6/10] END C=44.50000000000001, kernel=sigmoid; f1: (test=0.620) precision: (test=0.617) recall: (test=0.622) roc_auc: (test=0.668) total time=   0.3s\n",
      "[CV 7/10] END C=44.50000000000001, kernel=sigmoid; f1: (test=0.603) precision: (test=0.606) recall: (test=0.601) roc_auc: (test=0.625) total time=   0.3s\n",
      "[CV 8/10] END C=44.50000000000001, kernel=sigmoid; f1: (test=0.618) precision: (test=0.618) recall: (test=0.618) roc_auc: (test=0.650) total time=   0.4s\n",
      "[CV 9/10] END C=44.50000000000001, kernel=sigmoid; f1: (test=0.573) precision: (test=0.570) recall: (test=0.575) roc_auc: (test=0.614) total time=   0.4s\n",
      "[CV 10/10] END C=44.50000000000001, kernel=sigmoid; f1: (test=0.626) precision: (test=0.638) recall: (test=0.614) roc_auc: (test=0.689) total time=   0.3s\n",
      "[CV 1/10] END C=55.60000000000001, kernel=poly; f1: (test=0.835) precision: (test=0.781) recall: (test=0.897) roc_auc: (test=0.885) total time=   2.7s\n",
      "[CV 2/10] END C=55.60000000000001, kernel=poly; f1: (test=0.832) precision: (test=0.752) recall: (test=0.932) roc_auc: (test=0.853) total time=   2.6s\n",
      "[CV 3/10] END C=55.60000000000001, kernel=poly; f1: (test=0.810) precision: (test=0.754) recall: (test=0.876) roc_auc: (test=0.845) total time=   3.6s\n",
      "[CV 4/10] END C=55.60000000000001, kernel=poly; f1: (test=0.863) precision: (test=0.788) recall: (test=0.953) roc_auc: (test=0.895) total time=   3.2s\n",
      "[CV 5/10] END C=55.60000000000001, kernel=poly; f1: (test=0.842) precision: (test=0.763) recall: (test=0.940) roc_auc: (test=0.879) total time=   2.5s\n",
      "[CV 6/10] END C=55.60000000000001, kernel=poly; f1: (test=0.849) precision: (test=0.790) recall: (test=0.918) roc_auc: (test=0.895) total time=   3.5s\n",
      "[CV 7/10] END C=55.60000000000001, kernel=poly; f1: (test=0.800) precision: (test=0.714) recall: (test=0.910) roc_auc: (test=0.843) total time=   2.1s\n",
      "[CV 8/10] END C=55.60000000000001, kernel=poly; f1: (test=0.834) precision: (test=0.766) recall: (test=0.914) roc_auc: (test=0.867) total time=   2.9s\n",
      "[CV 9/10] END C=55.60000000000001, kernel=poly; f1: (test=0.842) precision: (test=0.771) recall: (test=0.927) roc_auc: (test=0.881) total time=   3.4s\n",
      "[CV 10/10] END C=55.60000000000001, kernel=poly; f1: (test=0.844) precision: (test=0.798) recall: (test=0.897) roc_auc: (test=0.877) total time=   2.9s\n",
      "[CV 1/10] END C=55.60000000000001, kernel=rbf; f1: (test=0.852) precision: (test=0.791) recall: (test=0.923) roc_auc: (test=0.886) total time=   0.6s\n",
      "[CV 2/10] END C=55.60000000000001, kernel=rbf; f1: (test=0.844) precision: (test=0.760) recall: (test=0.949) roc_auc: (test=0.872) total time=   0.6s\n",
      "[CV 3/10] END C=55.60000000000001, kernel=rbf; f1: (test=0.822) precision: (test=0.765) recall: (test=0.889) roc_auc: (test=0.874) total time=   0.7s\n",
      "[CV 4/10] END C=55.60000000000001, kernel=rbf; f1: (test=0.862) precision: (test=0.790) recall: (test=0.949) roc_auc: (test=0.887) total time=   0.7s\n",
      "[CV 5/10] END C=55.60000000000001, kernel=rbf; f1: (test=0.864) precision: (test=0.781) recall: (test=0.966) roc_auc: (test=0.886) total time=   0.6s\n",
      "[CV 6/10] END C=55.60000000000001, kernel=rbf; f1: (test=0.859) precision: (test=0.791) recall: (test=0.940) roc_auc: (test=0.903) total time=   0.6s\n",
      "[CV 7/10] END C=55.60000000000001, kernel=rbf; f1: (test=0.814) precision: (test=0.723) recall: (test=0.931) roc_auc: (test=0.853) total time=   0.6s\n",
      "[CV 8/10] END C=55.60000000000001, kernel=rbf; f1: (test=0.838) precision: (test=0.768) recall: (test=0.923) roc_auc: (test=0.878) total time=   0.7s\n",
      "[CV 9/10] END C=55.60000000000001, kernel=rbf; f1: (test=0.830) precision: (test=0.761) recall: (test=0.914) roc_auc: (test=0.894) total time=   0.6s\n",
      "[CV 10/10] END C=55.60000000000001, kernel=rbf; f1: (test=0.845) precision: (test=0.795) recall: (test=0.901) roc_auc: (test=0.901) total time=   0.6s\n",
      "[CV 1/10] END C=55.60000000000001, kernel=linear; f1: (test=0.792) precision: (test=0.691) recall: (test=0.927) roc_auc: (test=0.854) total time=   2.8s\n",
      "[CV 2/10] END C=55.60000000000001, kernel=linear; f1: (test=0.807) precision: (test=0.709) recall: (test=0.936) roc_auc: (test=0.821) total time=   2.7s\n",
      "[CV 3/10] END C=55.60000000000001, kernel=linear; f1: (test=0.777) precision: (test=0.697) recall: (test=0.876) roc_auc: (test=0.827) total time=   2.8s\n",
      "[CV 4/10] END C=55.60000000000001, kernel=linear; f1: (test=0.820) precision: (test=0.719) recall: (test=0.953) roc_auc: (test=0.870) total time=   2.8s\n",
      "[CV 5/10] END C=55.60000000000001, kernel=linear; f1: (test=0.799) precision: (test=0.683) recall: (test=0.961) roc_auc: (test=0.846) total time=   2.7s\n",
      "[CV 6/10] END C=55.60000000000001, kernel=linear; f1: (test=0.788) precision: (test=0.687) recall: (test=0.923) roc_auc: (test=0.860) total time=   2.9s\n",
      "[CV 7/10] END C=55.60000000000001, kernel=linear; f1: (test=0.754) precision: (test=0.652) recall: (test=0.893) roc_auc: (test=0.797) total time=   2.7s\n",
      "[CV 8/10] END C=55.60000000000001, kernel=linear; f1: (test=0.799) precision: (test=0.701) recall: (test=0.927) roc_auc: (test=0.844) total time=   2.8s\n",
      "[CV 9/10] END C=55.60000000000001, kernel=linear; f1: (test=0.799) precision: (test=0.701) recall: (test=0.927) roc_auc: (test=0.851) total time=   2.6s\n",
      "[CV 10/10] END C=55.60000000000001, kernel=linear; f1: (test=0.795) precision: (test=0.713) recall: (test=0.897) roc_auc: (test=0.836) total time=   2.4s\n",
      "[CV 1/10] END C=55.60000000000001, kernel=sigmoid; f1: (test=0.610) precision: (test=0.605) recall: (test=0.615) roc_auc: (test=0.646) total time=   0.4s\n",
      "[CV 2/10] END C=55.60000000000001, kernel=sigmoid; f1: (test=0.614) precision: (test=0.609) recall: (test=0.620) roc_auc: (test=0.678) total time=   0.3s\n",
      "[CV 3/10] END C=55.60000000000001, kernel=sigmoid; f1: (test=0.559) precision: (test=0.597) recall: (test=0.526) roc_auc: (test=0.661) total time=   0.3s\n",
      "[CV 4/10] END C=55.60000000000001, kernel=sigmoid; f1: (test=0.626) precision: (test=0.637) recall: (test=0.615) roc_auc: (test=0.673) total time=   0.3s\n",
      "[CV 5/10] END C=55.60000000000001, kernel=sigmoid; f1: (test=0.650) precision: (test=0.643) recall: (test=0.657) roc_auc: (test=0.690) total time=   0.2s\n",
      "[CV 6/10] END C=55.60000000000001, kernel=sigmoid; f1: (test=0.620) precision: (test=0.617) recall: (test=0.622) roc_auc: (test=0.668) total time=   0.3s\n",
      "[CV 7/10] END C=55.60000000000001, kernel=sigmoid; f1: (test=0.603) precision: (test=0.606) recall: (test=0.601) roc_auc: (test=0.625) total time=   0.3s\n",
      "[CV 8/10] END C=55.60000000000001, kernel=sigmoid; f1: (test=0.618) precision: (test=0.618) recall: (test=0.618) roc_auc: (test=0.650) total time=   0.4s\n",
      "[CV 9/10] END C=55.60000000000001, kernel=sigmoid; f1: (test=0.580) precision: (test=0.576) recall: (test=0.584) roc_auc: (test=0.614) total time=   0.3s\n",
      "[CV 10/10] END C=55.60000000000001, kernel=sigmoid; f1: (test=0.626) precision: (test=0.638) recall: (test=0.614) roc_auc: (test=0.689) total time=   0.3s\n",
      "[CV 1/10] END C=66.7, kernel=poly; f1: (test=0.837) precision: (test=0.784) recall: (test=0.897) roc_auc: (test=0.885) total time=   3.4s\n",
      "[CV 2/10] END C=66.7, kernel=poly; f1: (test=0.835) precision: (test=0.757) recall: (test=0.932) roc_auc: (test=0.853) total time=   3.4s\n",
      "[CV 3/10] END C=66.7, kernel=poly; f1: (test=0.810) precision: (test=0.754) recall: (test=0.876) roc_auc: (test=0.846) total time=   3.3s\n",
      "[CV 4/10] END C=66.7, kernel=poly; f1: (test=0.863) precision: (test=0.788) recall: (test=0.953) roc_auc: (test=0.895) total time=   4.1s\n",
      "[CV 5/10] END C=66.7, kernel=poly; f1: (test=0.842) precision: (test=0.763) recall: (test=0.940) roc_auc: (test=0.878) total time=   3.2s\n",
      "[CV 6/10] END C=66.7, kernel=poly; f1: (test=0.848) precision: (test=0.787) recall: (test=0.918) roc_auc: (test=0.895) total time=   2.8s\n",
      "[CV 7/10] END C=66.7, kernel=poly; f1: (test=0.800) precision: (test=0.714) recall: (test=0.910) roc_auc: (test=0.844) total time=   2.3s\n",
      "[CV 8/10] END C=66.7, kernel=poly; f1: (test=0.832) precision: (test=0.763) recall: (test=0.914) roc_auc: (test=0.867) total time=   3.0s\n",
      "[CV 9/10] END C=66.7, kernel=poly; f1: (test=0.842) precision: (test=0.771) recall: (test=0.927) roc_auc: (test=0.881) total time=   3.3s\n",
      "[CV 10/10] END C=66.7, kernel=poly; f1: (test=0.847) precision: (test=0.798) recall: (test=0.901) roc_auc: (test=0.877) total time=   3.8s\n",
      "[CV 1/10] END C=66.7, kernel=rbf; f1: (test=0.854) precision: (test=0.792) recall: (test=0.927) roc_auc: (test=0.889) total time=   0.7s\n",
      "[CV 2/10] END C=66.7, kernel=rbf; f1: (test=0.846) precision: (test=0.763) recall: (test=0.949) roc_auc: (test=0.872) total time=   0.7s\n",
      "[CV 3/10] END C=66.7, kernel=rbf; f1: (test=0.822) precision: (test=0.765) recall: (test=0.889) roc_auc: (test=0.874) total time=   0.7s\n",
      "[CV 4/10] END C=66.7, kernel=rbf; f1: (test=0.862) precision: (test=0.790) recall: (test=0.949) roc_auc: (test=0.887) total time=   0.7s\n",
      "[CV 5/10] END C=66.7, kernel=rbf; f1: (test=0.864) precision: (test=0.781) recall: (test=0.966) roc_auc: (test=0.886) total time=   0.7s\n",
      "[CV 6/10] END C=66.7, kernel=rbf; f1: (test=0.857) precision: (test=0.788) recall: (test=0.940) roc_auc: (test=0.903) total time=   0.7s\n",
      "[CV 7/10] END C=66.7, kernel=rbf; f1: (test=0.814) precision: (test=0.723) recall: (test=0.931) roc_auc: (test=0.854) total time=   0.7s\n",
      "[CV 8/10] END C=66.7, kernel=rbf; f1: (test=0.838) precision: (test=0.768) recall: (test=0.923) roc_auc: (test=0.877) total time=   0.7s\n",
      "[CV 9/10] END C=66.7, kernel=rbf; f1: (test=0.832) precision: (test=0.763) recall: (test=0.914) roc_auc: (test=0.894) total time=   0.7s\n",
      "[CV 10/10] END C=66.7, kernel=rbf; f1: (test=0.845) precision: (test=0.795) recall: (test=0.901) roc_auc: (test=0.901) total time=   0.7s\n",
      "[CV 1/10] END C=66.7, kernel=linear; f1: (test=0.792) precision: (test=0.691) recall: (test=0.927) roc_auc: (test=0.854) total time=   3.1s\n",
      "[CV 2/10] END C=66.7, kernel=linear; f1: (test=0.807) precision: (test=0.709) recall: (test=0.936) roc_auc: (test=0.821) total time=   3.1s\n",
      "[CV 3/10] END C=66.7, kernel=linear; f1: (test=0.777) precision: (test=0.697) recall: (test=0.876) roc_auc: (test=0.827) total time=   3.1s\n",
      "[CV 4/10] END C=66.7, kernel=linear; f1: (test=0.820) precision: (test=0.719) recall: (test=0.953) roc_auc: (test=0.871) total time=   3.3s\n",
      "[CV 5/10] END C=66.7, kernel=linear; f1: (test=0.799) precision: (test=0.683) recall: (test=0.961) roc_auc: (test=0.846) total time=   3.3s\n",
      "[CV 6/10] END C=66.7, kernel=linear; f1: (test=0.788) precision: (test=0.687) recall: (test=0.923) roc_auc: (test=0.860) total time=   3.1s\n",
      "[CV 7/10] END C=66.7, kernel=linear; f1: (test=0.754) precision: (test=0.652) recall: (test=0.893) roc_auc: (test=0.797) total time=   3.0s\n",
      "[CV 8/10] END C=66.7, kernel=linear; f1: (test=0.799) precision: (test=0.701) recall: (test=0.927) roc_auc: (test=0.844) total time=   3.2s\n",
      "[CV 9/10] END C=66.7, kernel=linear; f1: (test=0.799) precision: (test=0.701) recall: (test=0.927) roc_auc: (test=0.851) total time=   3.2s\n",
      "[CV 10/10] END C=66.7, kernel=linear; f1: (test=0.795) precision: (test=0.713) recall: (test=0.897) roc_auc: (test=0.836) total time=   3.1s\n",
      "[CV 1/10] END C=66.7, kernel=sigmoid; f1: (test=0.610) precision: (test=0.605) recall: (test=0.615) roc_auc: (test=0.646) total time=   0.3s\n",
      "[CV 2/10] END C=66.7, kernel=sigmoid; f1: (test=0.614) precision: (test=0.609) recall: (test=0.620) roc_auc: (test=0.678) total time=   0.3s\n",
      "[CV 3/10] END C=66.7, kernel=sigmoid; f1: (test=0.559) precision: (test=0.597) recall: (test=0.526) roc_auc: (test=0.661) total time=   0.3s\n",
      "[CV 4/10] END C=66.7, kernel=sigmoid; f1: (test=0.625) precision: (test=0.634) recall: (test=0.615) roc_auc: (test=0.674) total time=   0.3s\n",
      "[CV 5/10] END C=66.7, kernel=sigmoid; f1: (test=0.650) precision: (test=0.643) recall: (test=0.657) roc_auc: (test=0.690) total time=   0.2s\n",
      "[CV 6/10] END C=66.7, kernel=sigmoid; f1: (test=0.620) precision: (test=0.617) recall: (test=0.622) roc_auc: (test=0.668) total time=   0.3s\n",
      "[CV 7/10] END C=66.7, kernel=sigmoid; f1: (test=0.603) precision: (test=0.606) recall: (test=0.601) roc_auc: (test=0.625) total time=   0.3s\n",
      "[CV 8/10] END C=66.7, kernel=sigmoid; f1: (test=0.618) precision: (test=0.618) recall: (test=0.618) roc_auc: (test=0.650) total time=   0.4s\n",
      "[CV 9/10] END C=66.7, kernel=sigmoid; f1: (test=0.573) precision: (test=0.570) recall: (test=0.575) roc_auc: (test=0.614) total time=   0.3s\n",
      "[CV 10/10] END C=66.7, kernel=sigmoid; f1: (test=0.626) precision: (test=0.638) recall: (test=0.614) roc_auc: (test=0.689) total time=   0.3s\n",
      "[CV 1/10] END C=77.80000000000001, kernel=poly; f1: (test=0.838) precision: (test=0.787) recall: (test=0.897) roc_auc: (test=0.883) total time=   3.7s\n",
      "[CV 2/10] END C=77.80000000000001, kernel=poly; f1: (test=0.835) precision: (test=0.757) recall: (test=0.932) roc_auc: (test=0.854) total time=   3.5s\n",
      "[CV 3/10] END C=77.80000000000001, kernel=poly; f1: (test=0.810) precision: (test=0.754) recall: (test=0.876) roc_auc: (test=0.845) total time=   3.6s\n",
      "[CV 4/10] END C=77.80000000000001, kernel=poly; f1: (test=0.863) precision: (test=0.788) recall: (test=0.953) roc_auc: (test=0.895) total time=   4.8s\n",
      "[CV 5/10] END C=77.80000000000001, kernel=poly; f1: (test=0.842) precision: (test=0.763) recall: (test=0.940) roc_auc: (test=0.878) total time=   3.6s\n",
      "[CV 6/10] END C=77.80000000000001, kernel=poly; f1: (test=0.850) precision: (test=0.788) recall: (test=0.923) roc_auc: (test=0.894) total time=   3.4s\n",
      "[CV 7/10] END C=77.80000000000001, kernel=poly; f1: (test=0.801) precision: (test=0.718) recall: (test=0.906) roc_auc: (test=0.844) total time=   3.4s\n",
      "[CV 8/10] END C=77.80000000000001, kernel=poly; f1: (test=0.832) precision: (test=0.763) recall: (test=0.914) roc_auc: (test=0.867) total time=   3.8s\n",
      "[CV 9/10] END C=77.80000000000001, kernel=poly; f1: (test=0.844) precision: (test=0.774) recall: (test=0.927) roc_auc: (test=0.881) total time=   5.1s\n",
      "[CV 10/10] END C=77.80000000000001, kernel=poly; f1: (test=0.849) precision: (test=0.799) recall: (test=0.906) roc_auc: (test=0.877) total time=   3.1s\n",
      "[CV 1/10] END C=77.80000000000001, kernel=rbf; f1: (test=0.852) precision: (test=0.791) recall: (test=0.923) roc_auc: (test=0.889) total time=   0.7s\n",
      "[CV 2/10] END C=77.80000000000001, kernel=rbf; f1: (test=0.846) precision: (test=0.763) recall: (test=0.949) roc_auc: (test=0.870) total time=   0.7s\n",
      "[CV 3/10] END C=77.80000000000001, kernel=rbf; f1: (test=0.822) precision: (test=0.765) recall: (test=0.889) roc_auc: (test=0.874) total time=   0.7s\n",
      "[CV 4/10] END C=77.80000000000001, kernel=rbf; f1: (test=0.865) precision: (test=0.796) recall: (test=0.949) roc_auc: (test=0.888) total time=   0.7s\n",
      "[CV 5/10] END C=77.80000000000001, kernel=rbf; f1: (test=0.864) precision: (test=0.781) recall: (test=0.966) roc_auc: (test=0.886) total time=   0.7s\n",
      "[CV 6/10] END C=77.80000000000001, kernel=rbf; f1: (test=0.857) precision: (test=0.790) recall: (test=0.936) roc_auc: (test=0.902) total time=   0.7s\n",
      "[CV 7/10] END C=77.80000000000001, kernel=rbf; f1: (test=0.814) precision: (test=0.723) recall: (test=0.931) roc_auc: (test=0.854) total time=   0.7s\n",
      "[CV 8/10] END C=77.80000000000001, kernel=rbf; f1: (test=0.840) precision: (test=0.769) recall: (test=0.927) roc_auc: (test=0.877) total time=   0.7s\n",
      "[CV 9/10] END C=77.80000000000001, kernel=rbf; f1: (test=0.830) precision: (test=0.761) recall: (test=0.914) roc_auc: (test=0.894) total time=   0.7s\n",
      "[CV 10/10] END C=77.80000000000001, kernel=rbf; f1: (test=0.844) precision: (test=0.798) recall: (test=0.897) roc_auc: (test=0.901) total time=   0.7s\n",
      "[CV 1/10] END C=77.80000000000001, kernel=linear; f1: (test=0.792) precision: (test=0.691) recall: (test=0.927) roc_auc: (test=0.854) total time=   3.7s\n",
      "[CV 2/10] END C=77.80000000000001, kernel=linear; f1: (test=0.807) precision: (test=0.709) recall: (test=0.936) roc_auc: (test=0.821) total time=   3.6s\n",
      "[CV 3/10] END C=77.80000000000001, kernel=linear; f1: (test=0.777) precision: (test=0.697) recall: (test=0.876) roc_auc: (test=0.827) total time=   3.3s\n",
      "[CV 4/10] END C=77.80000000000001, kernel=linear; f1: (test=0.818) precision: (test=0.717) recall: (test=0.953) roc_auc: (test=0.871) total time=   3.6s\n",
      "[CV 5/10] END C=77.80000000000001, kernel=linear; f1: (test=0.799) precision: (test=0.683) recall: (test=0.961) roc_auc: (test=0.846) total time=   3.3s\n",
      "[CV 6/10] END C=77.80000000000001, kernel=linear; f1: (test=0.788) precision: (test=0.687) recall: (test=0.923) roc_auc: (test=0.860) total time=   3.5s\n",
      "[CV 7/10] END C=77.80000000000001, kernel=linear; f1: (test=0.754) precision: (test=0.652) recall: (test=0.893) roc_auc: (test=0.797) total time=   3.4s\n",
      "[CV 8/10] END C=77.80000000000001, kernel=linear; f1: (test=0.799) precision: (test=0.701) recall: (test=0.927) roc_auc: (test=0.844) total time=   3.5s\n",
      "[CV 9/10] END C=77.80000000000001, kernel=linear; f1: (test=0.799) precision: (test=0.701) recall: (test=0.927) roc_auc: (test=0.851) total time=   3.7s\n",
      "[CV 10/10] END C=77.80000000000001, kernel=linear; f1: (test=0.795) precision: (test=0.713) recall: (test=0.897) roc_auc: (test=0.836) total time=   3.5s\n",
      "[CV 1/10] END C=77.80000000000001, kernel=sigmoid; f1: (test=0.610) precision: (test=0.605) recall: (test=0.615) roc_auc: (test=0.646) total time=   0.4s\n",
      "[CV 2/10] END C=77.80000000000001, kernel=sigmoid; f1: (test=0.614) precision: (test=0.609) recall: (test=0.620) roc_auc: (test=0.678) total time=   0.3s\n",
      "[CV 3/10] END C=77.80000000000001, kernel=sigmoid; f1: (test=0.559) precision: (test=0.597) recall: (test=0.526) roc_auc: (test=0.661) total time=   0.3s\n",
      "[CV 4/10] END C=77.80000000000001, kernel=sigmoid; f1: (test=0.625) precision: (test=0.634) recall: (test=0.615) roc_auc: (test=0.674) total time=   0.3s\n",
      "[CV 5/10] END C=77.80000000000001, kernel=sigmoid; f1: (test=0.650) precision: (test=0.643) recall: (test=0.657) roc_auc: (test=0.690) total time=   0.2s\n",
      "[CV 6/10] END C=77.80000000000001, kernel=sigmoid; f1: (test=0.620) precision: (test=0.617) recall: (test=0.622) roc_auc: (test=0.668) total time=   0.3s\n",
      "[CV 7/10] END C=77.80000000000001, kernel=sigmoid; f1: (test=0.603) precision: (test=0.606) recall: (test=0.601) roc_auc: (test=0.625) total time=   0.3s\n",
      "[CV 8/10] END C=77.80000000000001, kernel=sigmoid; f1: (test=0.618) precision: (test=0.618) recall: (test=0.618) roc_auc: (test=0.650) total time=   0.4s\n",
      "[CV 9/10] END C=77.80000000000001, kernel=sigmoid; f1: (test=0.570) precision: (test=0.568) recall: (test=0.571) roc_auc: (test=0.614) total time=   0.3s\n",
      "[CV 10/10] END C=77.80000000000001, kernel=sigmoid; f1: (test=0.626) precision: (test=0.638) recall: (test=0.614) roc_auc: (test=0.689) total time=   0.3s\n",
      "[CV 1/10] END C=88.9, kernel=poly; f1: (test=0.838) precision: (test=0.787) recall: (test=0.897) roc_auc: (test=0.883) total time=   4.3s\n",
      "[CV 2/10] END C=88.9, kernel=poly; f1: (test=0.834) precision: (test=0.754) recall: (test=0.932) roc_auc: (test=0.853) total time=   4.3s\n",
      "[CV 3/10] END C=88.9, kernel=poly; f1: (test=0.809) precision: (test=0.751) recall: (test=0.876) roc_auc: (test=0.846) total time=   4.2s\n",
      "[CV 4/10] END C=88.9, kernel=poly; f1: (test=0.863) precision: (test=0.788) recall: (test=0.953) roc_auc: (test=0.895) total time=   5.9s\n",
      "[CV 5/10] END C=88.9, kernel=poly; f1: (test=0.842) precision: (test=0.763) recall: (test=0.940) roc_auc: (test=0.878) total time=   3.5s\n",
      "[CV 6/10] END C=88.9, kernel=poly; f1: (test=0.850) precision: (test=0.788) recall: (test=0.923) roc_auc: (test=0.894) total time=   3.4s\n",
      "[CV 7/10] END C=88.9, kernel=poly; f1: (test=0.802) precision: (test=0.716) recall: (test=0.910) roc_auc: (test=0.843) total time=   2.7s\n",
      "[CV 8/10] END C=88.9, kernel=poly; f1: (test=0.832) precision: (test=0.763) recall: (test=0.914) roc_auc: (test=0.866) total time=   4.3s\n",
      "[CV 9/10] END C=88.9, kernel=poly; f1: (test=0.842) precision: (test=0.771) recall: (test=0.927) roc_auc: (test=0.881) total time=   3.5s\n",
      "[CV 10/10] END C=88.9, kernel=poly; f1: (test=0.847) precision: (test=0.798) recall: (test=0.901) roc_auc: (test=0.877) total time=   4.1s\n",
      "[CV 1/10] END C=88.9, kernel=rbf; f1: (test=0.854) precision: (test=0.794) recall: (test=0.923) roc_auc: (test=0.889) total time=   0.7s\n",
      "[CV 2/10] END C=88.9, kernel=rbf; f1: (test=0.842) precision: (test=0.759) recall: (test=0.944) roc_auc: (test=0.868) total time=   0.7s\n",
      "[CV 3/10] END C=88.9, kernel=rbf; f1: (test=0.821) precision: (test=0.767) recall: (test=0.885) roc_auc: (test=0.873) total time=   0.7s\n",
      "[CV 4/10] END C=88.9, kernel=rbf; f1: (test=0.865) precision: (test=0.796) recall: (test=0.949) roc_auc: (test=0.888) total time=   0.7s\n",
      "[CV 5/10] END C=88.9, kernel=rbf; f1: (test=0.864) precision: (test=0.781) recall: (test=0.966) roc_auc: (test=0.887) total time=   0.7s\n",
      "[CV 6/10] END C=88.9, kernel=rbf; f1: (test=0.857) precision: (test=0.790) recall: (test=0.936) roc_auc: (test=0.901) total time=   0.7s\n",
      "[CV 7/10] END C=88.9, kernel=rbf; f1: (test=0.814) precision: (test=0.723) recall: (test=0.931) roc_auc: (test=0.853) total time=   0.7s\n",
      "[CV 8/10] END C=88.9, kernel=rbf; f1: (test=0.840) precision: (test=0.769) recall: (test=0.927) roc_auc: (test=0.877) total time=   0.8s\n",
      "[CV 9/10] END C=88.9, kernel=rbf; f1: (test=0.830) precision: (test=0.761) recall: (test=0.914) roc_auc: (test=0.892) total time=   0.7s\n",
      "[CV 10/10] END C=88.9, kernel=rbf; f1: (test=0.842) precision: (test=0.797) recall: (test=0.893) roc_auc: (test=0.901) total time=   0.8s\n",
      "[CV 1/10] END C=88.9, kernel=linear; f1: (test=0.792) precision: (test=0.691) recall: (test=0.927) roc_auc: (test=0.854) total time=   4.2s\n",
      "[CV 2/10] END C=88.9, kernel=linear; f1: (test=0.807) precision: (test=0.709) recall: (test=0.936) roc_auc: (test=0.821) total time=   3.8s\n",
      "[CV 3/10] END C=88.9, kernel=linear; f1: (test=0.777) precision: (test=0.697) recall: (test=0.876) roc_auc: (test=0.827) total time=   3.6s\n",
      "[CV 4/10] END C=88.9, kernel=linear; f1: (test=0.818) precision: (test=0.717) recall: (test=0.953) roc_auc: (test=0.871) total time=   4.0s\n",
      "[CV 5/10] END C=88.9, kernel=linear; f1: (test=0.799) precision: (test=0.683) recall: (test=0.961) roc_auc: (test=0.846) total time=   3.7s\n",
      "[CV 6/10] END C=88.9, kernel=linear; f1: (test=0.788) precision: (test=0.687) recall: (test=0.923) roc_auc: (test=0.860) total time=   4.0s\n",
      "[CV 7/10] END C=88.9, kernel=linear; f1: (test=0.754) precision: (test=0.652) recall: (test=0.893) roc_auc: (test=0.797) total time=   3.7s\n",
      "[CV 8/10] END C=88.9, kernel=linear; f1: (test=0.799) precision: (test=0.701) recall: (test=0.927) roc_auc: (test=0.844) total time=   3.8s\n",
      "[CV 9/10] END C=88.9, kernel=linear; f1: (test=0.799) precision: (test=0.701) recall: (test=0.927) roc_auc: (test=0.851) total time=   3.9s\n",
      "[CV 10/10] END C=88.9, kernel=linear; f1: (test=0.795) precision: (test=0.713) recall: (test=0.897) roc_auc: (test=0.836) total time=   3.7s\n",
      "[CV 1/10] END C=88.9, kernel=sigmoid; f1: (test=0.610) precision: (test=0.605) recall: (test=0.615) roc_auc: (test=0.646) total time=   0.3s\n",
      "[CV 2/10] END C=88.9, kernel=sigmoid; f1: (test=0.614) precision: (test=0.609) recall: (test=0.620) roc_auc: (test=0.678) total time=   0.3s\n",
      "[CV 3/10] END C=88.9, kernel=sigmoid; f1: (test=0.559) precision: (test=0.597) recall: (test=0.526) roc_auc: (test=0.661) total time=   0.3s\n",
      "[CV 4/10] END C=88.9, kernel=sigmoid; f1: (test=0.626) precision: (test=0.637) recall: (test=0.615) roc_auc: (test=0.673) total time=   0.3s\n",
      "[CV 5/10] END C=88.9, kernel=sigmoid; f1: (test=0.650) precision: (test=0.643) recall: (test=0.657) roc_auc: (test=0.690) total time=   0.2s\n",
      "[CV 6/10] END C=88.9, kernel=sigmoid; f1: (test=0.620) precision: (test=0.617) recall: (test=0.622) roc_auc: (test=0.668) total time=   0.3s\n",
      "[CV 7/10] END C=88.9, kernel=sigmoid; f1: (test=0.603) precision: (test=0.606) recall: (test=0.601) roc_auc: (test=0.625) total time=   0.3s\n",
      "[CV 8/10] END C=88.9, kernel=sigmoid; f1: (test=0.618) precision: (test=0.618) recall: (test=0.618) roc_auc: (test=0.650) total time=   0.4s\n",
      "[CV 9/10] END C=88.9, kernel=sigmoid; f1: (test=0.573) precision: (test=0.570) recall: (test=0.575) roc_auc: (test=0.614) total time=   0.3s\n",
      "[CV 10/10] END C=88.9, kernel=sigmoid; f1: (test=0.626) precision: (test=0.638) recall: (test=0.614) roc_auc: (test=0.689) total time=   0.3s\n",
      "[CV 1/10] END C=100.0, kernel=poly; f1: (test=0.838) precision: (test=0.787) recall: (test=0.897) roc_auc: (test=0.883) total time=   4.7s\n",
      "[CV 2/10] END C=100.0, kernel=poly; f1: (test=0.836) precision: (test=0.755) recall: (test=0.936) roc_auc: (test=0.853) total time=   4.4s\n",
      "[CV 3/10] END C=100.0, kernel=poly; f1: (test=0.810) precision: (test=0.754) recall: (test=0.876) roc_auc: (test=0.846) total time=   5.4s\n",
      "[CV 4/10] END C=100.0, kernel=poly; f1: (test=0.863) precision: (test=0.788) recall: (test=0.953) roc_auc: (test=0.895) total time=   6.7s\n",
      "[CV 5/10] END C=100.0, kernel=poly; f1: (test=0.842) precision: (test=0.763) recall: (test=0.940) roc_auc: (test=0.878) total time=   4.5s\n",
      "[CV 6/10] END C=100.0, kernel=poly; f1: (test=0.850) precision: (test=0.788) recall: (test=0.923) roc_auc: (test=0.894) total time=   4.1s\n",
      "[CV 7/10] END C=100.0, kernel=poly; f1: (test=0.802) precision: (test=0.716) recall: (test=0.910) roc_auc: (test=0.843) total time=   3.3s\n",
      "[CV 8/10] END C=100.0, kernel=poly; f1: (test=0.830) precision: (test=0.763) recall: (test=0.910) roc_auc: (test=0.866) total time=   4.8s\n",
      "[CV 9/10] END C=100.0, kernel=poly; f1: (test=0.842) precision: (test=0.771) recall: (test=0.927) roc_auc: (test=0.881) total time=   4.8s\n",
      "[CV 10/10] END C=100.0, kernel=poly; f1: (test=0.849) precision: (test=0.799) recall: (test=0.906) roc_auc: (test=0.877) total time=   4.1s\n",
      "[CV 1/10] END C=100.0, kernel=rbf; f1: (test=0.855) precision: (test=0.797) recall: (test=0.923) roc_auc: (test=0.889) total time=   0.8s\n",
      "[CV 2/10] END C=100.0, kernel=rbf; f1: (test=0.844) precision: (test=0.762) recall: (test=0.944) roc_auc: (test=0.867) total time=   0.7s\n",
      "[CV 3/10] END C=100.0, kernel=rbf; f1: (test=0.821) precision: (test=0.767) recall: (test=0.885) roc_auc: (test=0.873) total time=   0.8s\n",
      "[CV 4/10] END C=100.0, kernel=rbf; f1: (test=0.864) precision: (test=0.793) recall: (test=0.949) roc_auc: (test=0.888) total time=   0.8s\n",
      "[CV 5/10] END C=100.0, kernel=rbf; f1: (test=0.862) precision: (test=0.780) recall: (test=0.961) roc_auc: (test=0.887) total time=   0.8s\n",
      "[CV 6/10] END C=100.0, kernel=rbf; f1: (test=0.858) precision: (test=0.793) recall: (test=0.936) roc_auc: (test=0.901) total time=   0.8s\n",
      "[CV 7/10] END C=100.0, kernel=rbf; f1: (test=0.816) precision: (test=0.726) recall: (test=0.931) roc_auc: (test=0.852) total time=   0.7s\n",
      "[CV 8/10] END C=100.0, kernel=rbf; f1: (test=0.838) precision: (test=0.768) recall: (test=0.923) roc_auc: (test=0.876) total time=   0.8s\n",
      "[CV 9/10] END C=100.0, kernel=rbf; f1: (test=0.830) precision: (test=0.761) recall: (test=0.914) roc_auc: (test=0.892) total time=   0.8s\n",
      "[CV 10/10] END C=100.0, kernel=rbf; f1: (test=0.844) precision: (test=0.800) recall: (test=0.893) roc_auc: (test=0.901) total time=   0.8s\n",
      "[CV 1/10] END C=100.0, kernel=linear; f1: (test=0.792) precision: (test=0.691) recall: (test=0.927) roc_auc: (test=0.854) total time=   4.3s\n",
      "[CV 2/10] END C=100.0, kernel=linear; f1: (test=0.807) precision: (test=0.709) recall: (test=0.936) roc_auc: (test=0.821) total time=   4.0s\n",
      "[CV 3/10] END C=100.0, kernel=linear; f1: (test=0.777) precision: (test=0.697) recall: (test=0.876) roc_auc: (test=0.827) total time=   3.9s\n",
      "[CV 4/10] END C=100.0, kernel=linear; f1: (test=0.820) precision: (test=0.719) recall: (test=0.953) roc_auc: (test=0.871) total time=   4.3s\n",
      "[CV 5/10] END C=100.0, kernel=linear; f1: (test=0.799) precision: (test=0.683) recall: (test=0.961) roc_auc: (test=0.846) total time=   4.5s\n",
      "[CV 6/10] END C=100.0, kernel=linear; f1: (test=0.788) precision: (test=0.687) recall: (test=0.923) roc_auc: (test=0.860) total time=   4.5s\n",
      "[CV 7/10] END C=100.0, kernel=linear; f1: (test=0.754) precision: (test=0.652) recall: (test=0.893) roc_auc: (test=0.797) total time=   4.3s\n",
      "[CV 8/10] END C=100.0, kernel=linear; f1: (test=0.799) precision: (test=0.701) recall: (test=0.927) roc_auc: (test=0.844) total time=   4.2s\n",
      "[CV 9/10] END C=100.0, kernel=linear; f1: (test=0.799) precision: (test=0.701) recall: (test=0.927) roc_auc: (test=0.851) total time=   4.2s\n",
      "[CV 10/10] END C=100.0, kernel=linear; f1: (test=0.795) precision: (test=0.713) recall: (test=0.897) roc_auc: (test=0.836) total time=   4.2s\n",
      "[CV 1/10] END C=100.0, kernel=sigmoid; f1: (test=0.610) precision: (test=0.605) recall: (test=0.615) roc_auc: (test=0.646) total time=   0.3s\n",
      "[CV 2/10] END C=100.0, kernel=sigmoid; f1: (test=0.614) precision: (test=0.609) recall: (test=0.620) roc_auc: (test=0.678) total time=   0.3s\n",
      "[CV 3/10] END C=100.0, kernel=sigmoid; f1: (test=0.559) precision: (test=0.597) recall: (test=0.526) roc_auc: (test=0.661) total time=   0.3s\n",
      "[CV 4/10] END C=100.0, kernel=sigmoid; f1: (test=0.625) precision: (test=0.634) recall: (test=0.615) roc_auc: (test=0.674) total time=   0.3s\n",
      "[CV 5/10] END C=100.0, kernel=sigmoid; f1: (test=0.650) precision: (test=0.643) recall: (test=0.657) roc_auc: (test=0.690) total time=   0.2s\n",
      "[CV 6/10] END C=100.0, kernel=sigmoid; f1: (test=0.620) precision: (test=0.617) recall: (test=0.622) roc_auc: (test=0.668) total time=   0.3s\n",
      "[CV 7/10] END C=100.0, kernel=sigmoid; f1: (test=0.603) precision: (test=0.606) recall: (test=0.601) roc_auc: (test=0.625) total time=   0.3s\n",
      "[CV 8/10] END C=100.0, kernel=sigmoid; f1: (test=0.618) precision: (test=0.618) recall: (test=0.618) roc_auc: (test=0.650) total time=   0.4s\n",
      "[CV 9/10] END C=100.0, kernel=sigmoid; f1: (test=0.573) precision: (test=0.570) recall: (test=0.575) roc_auc: (test=0.614) total time=   0.3s\n",
      "[CV 10/10] END C=100.0, kernel=sigmoid; f1: (test=0.626) precision: (test=0.638) recall: (test=0.614) roc_auc: (test=0.689) total time=   0.3s\n",
      "SVC(C=77.80000000000001)\n",
      "{'C': 77.80000000000001, 'kernel': 'rbf'}\n",
      "[{'C': 0.1, 'kernel': 'poly'}, {'C': 0.1, 'kernel': 'rbf'}, {'C': 0.1, 'kernel': 'linear'}, {'C': 0.1, 'kernel': 'sigmoid'}, {'C': 11.200000000000001, 'kernel': 'poly'}, {'C': 11.200000000000001, 'kernel': 'rbf'}, {'C': 11.200000000000001, 'kernel': 'linear'}, {'C': 11.200000000000001, 'kernel': 'sigmoid'}, {'C': 22.300000000000004, 'kernel': 'poly'}, {'C': 22.300000000000004, 'kernel': 'rbf'}, {'C': 22.300000000000004, 'kernel': 'linear'}, {'C': 22.300000000000004, 'kernel': 'sigmoid'}, {'C': 33.400000000000006, 'kernel': 'poly'}, {'C': 33.400000000000006, 'kernel': 'rbf'}, {'C': 33.400000000000006, 'kernel': 'linear'}, {'C': 33.400000000000006, 'kernel': 'sigmoid'}, {'C': 44.50000000000001, 'kernel': 'poly'}, {'C': 44.50000000000001, 'kernel': 'rbf'}, {'C': 44.50000000000001, 'kernel': 'linear'}, {'C': 44.50000000000001, 'kernel': 'sigmoid'}, {'C': 55.60000000000001, 'kernel': 'poly'}, {'C': 55.60000000000001, 'kernel': 'rbf'}, {'C': 55.60000000000001, 'kernel': 'linear'}, {'C': 55.60000000000001, 'kernel': 'sigmoid'}, {'C': 66.7, 'kernel': 'poly'}, {'C': 66.7, 'kernel': 'rbf'}, {'C': 66.7, 'kernel': 'linear'}, {'C': 66.7, 'kernel': 'sigmoid'}, {'C': 77.80000000000001, 'kernel': 'poly'}, {'C': 77.80000000000001, 'kernel': 'rbf'}, {'C': 77.80000000000001, 'kernel': 'linear'}, {'C': 77.80000000000001, 'kernel': 'sigmoid'}, {'C': 88.9, 'kernel': 'poly'}, {'C': 88.9, 'kernel': 'rbf'}, {'C': 88.9, 'kernel': 'linear'}, {'C': 88.9, 'kernel': 'sigmoid'}, {'C': 100.0, 'kernel': 'poly'}, {'C': 100.0, 'kernel': 'rbf'}, {'C': 100.0, 'kernel': 'linear'}, {'C': 100.0, 'kernel': 'sigmoid'}]\n"
     ]
    },
    {
     "data": {
      "text/plain": [
       "<AxesSubplot:xlabel='C', ylabel='f1'>"
      ]
     },
     "execution_count": 6,
     "metadata": {},
     "output_type": "execute_result"
    },
    {
     "data": {
      "image/png": "[encoded data removed]",
      "text/plain": [
       "<Figure size 432x288 with 1 Axes>"
      ]
     },
     "metadata": {
      "needs_background": "light"
     },
     "output_type": "display_data"
    }
   ],
   "source": [
    "####### Support Vector Classification on testing data #####\n",
    "\n",
    "import pandas as pd\n",
    "import numpy as np\n",
    "import seaborn as sns\n",
    "import matplotlib.pyplot as plt\n",
    "\n",
    "## Build a SVM model\n",
    "Y=Y.to_numpy()\n",
    "X=X.to_numpy()\n",
    "\n",
    "from sklearn.model_selection import KFold\n",
    "from sklearn.metrics import roc_auc_score\n",
    "from sklearn.metrics import f1_score\n",
    "from sklearn.svm import SVC\n",
    "\n",
    "########## Select best parameters and display the results ######### \n",
    "\n",
    "# This section of code will always be the same, only thing that will change will be the type\n",
    "base_model=SVC()\n",
    "kernel_values=['poly','rbf','linear','sigmoid']\n",
    "c_values=np.linspace(0.1,100,10,endpoint=True)\n",
    "kf=KFold(n_splits=5,shuffle=True)\n",
    "tuned_parameters=[{'C':c_values,'kernel':kernel_values}]\n",
    "scores=['precision','recall','f1','roc_auc']\n",
    "\n",
    "from sklearn.model_selection import GridSearchCV\n",
    "\n",
    "clf=GridSearchCV(estimator=base_model,\n",
    "                 param_grid=tuned_parameters,\n",
    "                 scoring=scores,\n",
    "                 refit='f1',\n",
    "                 cv=10,\n",
    "                 verbose=3)\n",
    "\n",
    "clf.fit(X,Y) # Look at variabe in 'best_params_' for best \n",
    "#'cv_results_' calculations for each fold\n",
    "print(clf.best_estimator_) #Shows the best estimator & kernel\n",
    "print(clf.best_params_) # Shows the best parameters, kerel and c-value\n",
    "print(clf.cv_results_['params'])\n",
    "\n",
    "# Take the results from (clf.cv_results_['params']) and create a dataframe to store results\n",
    "df_results=pd.DataFrame(clf.cv_results_['params'])\n",
    "df_results['f1']=clf.cv_results_['mean_test_f1']\n",
    "df_results['auc']=clf.cv_results_['mean_test_roc_auc']\n",
    "df_results['precision']=clf.cv_results_['mean_test_precision']\n",
    "\n",
    "# Visualize df_results to find best kernel algorithm and c-value\n",
    "# performance of f1 score\n",
    "sns.lineplot(data=df_results,x='C',y='f1',hue='kernel')\n",
    "\n",
    "# Look at precision instead of 'f1'\n",
    "#sns.lineplot(data=df_results,x='C',y='precision',hue='kernel')"
   ]
  },
  {
   "cell_type": "markdown",
   "id": "829cf3f5",
   "metadata": {},
   "source": [
    "##### Results:\n",
    "best c = 77.8\n",
    "best kernel = 'rbf'\n"
   ]
  },
  {
   "cell_type": "markdown",
   "id": "b24a5043",
   "metadata": {},
   "source": [
    "#### Average AUC values for the different levels of C (Testing and Training)"
   ]
  },
  {
   "cell_type": "code",
   "execution_count": 7,
   "id": "e3d13724",
   "metadata": {},
   "outputs": [
    {
     "data": {
      "text/plain": [
       "Text(0, 0.5, 'F1')"
      ]
     },
     "execution_count": 7,
     "metadata": {},
     "output_type": "execute_result"
    },
    {
     "data": {
      "image/png": "[encoded data removed]",
      "text/plain": [
       "<Figure size 720x288 with 1 Axes>"
      ]
     },
     "metadata": {
      "needs_background": "light"
     },
     "output_type": "display_data"
    },
    {
     "data": {
      "image/png": "[encoded data removed]",
      "text/plain": [
       "<Figure size 720x288 with 1 Axes>"
      ]
     },
     "metadata": {
      "needs_background": "light"
     },
     "output_type": "display_data"
    }
   ],
   "source": [
    "\n",
    "base_model=SVC()\n",
    "kernel_values=['rbf']\n",
    "c_values=np.linspace(77.8,10,endpoint=True)\n",
    "kf=KFold(n_splits=5,shuffle=True)\n",
    "tuned_parameters=[{'C':c_values,'kernel':kernel_values}]\n",
    "scores=['precision','recall','f1','roc_auc']\n",
    "\n",
    "from sklearn import svm\n",
    "avg_auc_test=[]\n",
    "avg_auc_train=[]\n",
    "avg_f1_test=[]\n",
    "avg_f1_train=[]\n",
    "\n",
    "for c in c_values: \n",
    "    auc_train=[]\n",
    "    auc_test=[]\n",
    "    f1_train=[]\n",
    "    f1_test=[]\n",
    "\n",
    "    for train_index, test_index in kf.split(X):\n",
    "        X_train, X_test = X[train_index], X[test_index]\n",
    "        Y_train, Y_test = Y[train_index], Y[test_index]\n",
    "        clf = svm.SVC(C=c,kernel='rbf')\n",
    "        clf.fit(X_train, Y_train)\n",
    "        Y_test_pre=clf.predict(X_test)\n",
    "        Y_train_pre=clf.predict(X_train)\n",
    "        auc_train.append(roc_auc_score(Y_train,Y_train_pre))\n",
    "        auc_test.append(roc_auc_score(Y_test,Y_test_pre))\n",
    "        f1_test.append(f1_score(Y_test,Y_test_pre,pos_label=0))\n",
    "        f1_train.append(f1_score(Y_train,Y_train_pre,pos_label=0))\n",
    "\n",
    "    avg_auc_test.append(np.mean(auc_test))\n",
    "    avg_auc_train.append(np.mean(auc_train))\n",
    "    avg_f1_test.append(np.mean(f1_test))\n",
    "    avg_f1_train.append(np.mean(f1_train))\n",
    " \n",
    "plt.figure(figsize=(10,4))\n",
    "plt.plot(c_values,avg_auc_test,label='Testing Set')    \n",
    "plt.plot(c_values,avg_auc_train,label='Training Set')  \n",
    "plt.legend()\n",
    "plt.xticks(c_values,rotation='vertical')\n",
    "plt.grid(color='b', axis='x', linestyle='-.', linewidth=1,alpha=0.2)\n",
    "plt.xlabel('C')\n",
    "plt.ylabel('AUC')\n",
    "\n",
    "plt.figure(figsize=(10,4))\n",
    "plt.plot(c_values,avg_f1_test,label='Testing Set')    \n",
    "plt.plot(c_values,avg_f1_train,label='Training Set')  \n",
    "plt.legend()\n",
    "plt.xticks(c_values,rotation='vertical')\n",
    "plt.grid(color='b', axis='x', linestyle='-.', linewidth=1,alpha=0.2)\n",
    "plt.xlabel('C')\n",
    "plt.ylabel('F1')"
   ]
  },
  {
   "cell_type": "markdown",
   "id": "5f697c2d",
   "metadata": {},
   "source": [
    "#### Fit final model using SVC algorithm with optimized parameters found prior"
   ]
  },
  {
   "cell_type": "code",
   "execution_count": 15,
   "id": "43028721",
   "metadata": {},
   "outputs": [],
   "source": [
    "from sklearn import svm\n",
    "final_model = svm.SVC(C=77.8,kernel='rbf')\n",
    "final_model.fit(X, Y)\n",
    "Y_pre=final_model.predict(X)\n",
    "\n",
    "from sklearn.metrics import accuracy_score\n",
    "from sklearn.metrics import precision_score\n",
    "from sklearn.metrics import recall_score\n",
    "from sklearn.metrics import confusion_matrix\n",
    "from sklearn.metrics import plot_confusion_matrix"
   ]
  },
  {
   "cell_type": "markdown",
   "id": "550928b2",
   "metadata": {},
   "source": [
    "##### Plot Accuracy, Precision, Recall and ROC charrt of final model for training data"
   ]
  },
  {
   "cell_type": "code",
   "execution_count": 19,
   "id": "7de32144",
   "metadata": {},
   "outputs": [
    {
     "name": "stdout",
     "output_type": "stream",
     "text": [
      "Accuracy: 0.8492678725236865\n",
      "Precision: 0.7907473309608541\n",
      "Recall: 0.9520137103684662\n"
     ]
    }
   ],
   "source": [
    "print('Accuracy:', accuracy_score(Y, Y_pre))\n",
    "print('Precision:',precision_score(Y, Y_pre))\n",
    "print('Recall:', recall_score(Y, Y_pre))"
   ]
  },
  {
   "cell_type": "markdown",
   "id": "81bd98ba",
   "metadata": {},
   "source": [
    "##### ROC plot of final model using SVM algorithm with optimized parameters"
   ]
  },
  {
   "cell_type": "code",
   "execution_count": 21,
   "id": "78ff289a",
   "metadata": {
    "scrolled": true
   },
   "outputs": [
    {
     "name": "stdout",
     "output_type": "stream",
     "text": [
      "0.8487341279115058\n"
     ]
    },
    {
     "name": "stderr",
     "output_type": "stream",
     "text": [
      "C:\\Users\\jlusk\\anaconda3\\lib\\site-packages\\sklearn\\utils\\deprecation.py:87: FutureWarning: Function plot_roc_curve is deprecated; Function :func:`plot_roc_curve` is deprecated in 1.0 and will be removed in 1.2. Use one of the class methods: :meth:`sklearn.metric.RocCurveDisplay.from_predictions` or :meth:`sklearn.metric.RocCurveDisplay.from_estimator`.\n",
      "  warnings.warn(msg, category=FutureWarning)\n"
     ]
    },
    {
     "data": {
      "text/plain": [
       "<sklearn.metrics._plot.roc_curve.RocCurveDisplay at 0x226aeb06100>"
      ]
     },
     "execution_count": 21,
     "metadata": {},
     "output_type": "execute_result"
    },
    {
     "data": {
      "image/png": "[encoded data removed]",
      "text/plain": [
       "<Figure size 432x288 with 1 Axes>"
      ]
     },
     "metadata": {
      "needs_background": "light"
     },
     "output_type": "display_data"
    }
   ],
   "source": [
    "# ROC plot & AUC score of final model\n",
    "auc_score = roc_auc_score(Y,Y_pre)\n",
    "print(auc_score)\n",
    "plot_roc_curve(clf,X,Y)"
   ]
  },
  {
   "cell_type": "markdown",
   "id": "550bd6dc",
   "metadata": {},
   "source": [
    "##### Plot Confusion matrix of final model"
   ]
  },
  {
   "cell_type": "code",
   "execution_count": 17,
   "id": "d1ad1a2c",
   "metadata": {},
   "outputs": [
    {
     "name": "stdout",
     "output_type": "stream",
     "text": [
      "Confusion Matrix [[1722  588]\n",
      " [ 112 2222]]\n"
     ]
    },
    {
     "name": "stderr",
     "output_type": "stream",
     "text": [
      "C:\\Users\\jlusk\\anaconda3\\lib\\site-packages\\sklearn\\utils\\deprecation.py:87: FutureWarning: Function plot_confusion_matrix is deprecated; Function `plot_confusion_matrix` is deprecated in 1.0 and will be removed in 1.2. Use one of the class methods: ConfusionMatrixDisplay.from_predictions or ConfusionMatrixDisplay.from_estimator.\n",
      "  warnings.warn(msg, category=FutureWarning)\n"
     ]
    },
    {
     "data": {
      "text/plain": [
       "<sklearn.metrics._plot.confusion_matrix.ConfusionMatrixDisplay at 0x226aeb21d00>"
      ]
     },
     "execution_count": 17,
     "metadata": {},
     "output_type": "execute_result"
    },
    {
     "data": {
      "image/png": "[encoded data removed]",
      "text/plain": [
       "<Figure size 432x288 with 2 Axes>"
      ]
     },
     "metadata": {
      "needs_background": "light"
     },
     "output_type": "display_data"
    }
   ],
   "source": [
    "print('Confusion Matrix', confusion_matrix(Y, Y_pre))\n",
    "plot_confusion_matrix(final_model, X, Y)"
   ]
  },
  {
   "cell_type": "markdown",
   "id": "942dc506",
   "metadata": {},
   "source": [
    "### Type 1 and Type 2 Errrors\n",
    "False Positives(type 1): 112\n",
    "False Negative(type 2): 588\n",
    "\n",
    "The low number of errors and high number of true positive and negative classifications tell us that our model has good generalization ability."
   ]
  },
  {
   "cell_type": "markdown",
   "id": "cfcf8b51",
   "metadata": {},
   "source": [
    "## Part B"
   ]
  },
  {
   "cell_type": "markdown",
   "id": "e6e3c550",
   "metadata": {},
   "source": [
    "#### Based on your analyses, describe the most important characteristics of a phishing website\n",
    "One of the issues with using a non-linear SVC is that it is currently impossible to calculate feature importance. However, we can use our Random Forest Classifier to determine the importance of each feature and rank them."
   ]
  },
  {
   "cell_type": "code",
   "execution_count": 20,
   "id": "7444e1c0",
   "metadata": {},
   "outputs": [
    {
     "name": "stdout",
     "output_type": "stream",
     "text": [
      " 1) TildeSymbol                    0.303719\n",
      " 2) IpAddress                      0.174861\n",
      " 3) RandomString                   0.168755\n",
      " 4) NoHttps                        0.165015\n",
      " 5) DoubleSlashInPath              0.133212\n",
      " 6) DomainInPaths                  0.029347\n",
      " 7) DomainInSubdomains             0.025090\n"
     ]
    }
   ],
   "source": [
    "rfclf=RandomForestClassifier(n_estimators=1000, max_depth=7,random_state=1, max_samples=400)\n",
    "rfclf.fit(X_train, Y_train)\n",
    "imps = rfclf.feature_importances_\n",
    "sort_ind = np.argsort(imps)[::-1]\n",
    "feature_labels = dfTrain3.columns[1:]\n",
    "for f in range (X_train.shape[1]):\n",
    "    print(\"%2d) %-*s %f\" % (f + 1, 30, feature_labels[sort_ind[f]], imps[sort_ind[f]]))\n"
   ]
  },
  {
   "cell_type": "markdown",
   "id": "fb4e92c6",
   "metadata": {},
   "source": [
    "#### How would you explain your results to an upper-tier manager to explain your work in this project clearly and briefly? Write a page exclusive summary to describe your work, its importance,  your conclusions, and how your company can benefit from this work."
   ]
  },
  {
   "cell_type": "markdown",
   "id": "38c351c8",
   "metadata": {},
   "source": [
    "In our work we created a AI model that differentiate between a normal and phishing emails. By analyzing, testing and processing data on phishing and regular emails we were able to create a model that can differentiate with 85% accuracy. \n",
    "The work we did with AI and phishing emails is important for several reasons. AI models have the potential to automate task that can be costly and time consuming. Phishing attacks are one of the most, if not the most common type of threat. A successful phishing attack can have serious detrimental effects on a organization and its employees. Having the ability to automaticallly detect phishing emails can be very benificial.\n",
    "\n",
    "The company can benifit from our work a several ways. First, is it reduces the number of successful phishing attacks by detecting them automaticallly. Next, is that research in to AI and classification models could potentially be expanded in to other areas. We could potentially build models to detect other threats, or reduce workloads of employeee's. It also removes the stress of an employee having to make the determination themselves. As technology to detect malicious activity becomes more advanced, so does the attack methods. Phishing attacks are becoming more and more convincing."
   ]
  },
  {
   "cell_type": "code",
   "execution_count": null,
   "id": "5ec415cf",
   "metadata": {},
   "outputs": [],
   "source": []
  }
 ],
 "metadata": {
  "kernelspec": {
   "display_name": "Python 3 (ipykernel)",
   "language": "python",
   "name": "python3"
  },
  "language_info": {
   "codemirror_mode": {
    "name": "ipython",
    "version": 3
   },
   "file_extension": ".py",
   "mimetype": "text/x-python",
   "name": "python",
   "nbconvert_exporter": "python",
   "pygments_lexer": "ipython3",
   "version": "3.9.12"
  }
 },
 "nbformat": 4,
 "nbformat_minor": 5
}
